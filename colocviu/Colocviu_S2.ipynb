{
  "nbformat": 4,
  "nbformat_minor": 0,
  "metadata": {
    "colab": {
      "provenance": []
    },
    "kernelspec": {
      "name": "python3",
      "display_name": "Python 3"
    },
    "language_info": {
      "name": "python"
    }
  },
  "cells": [
    {
      "cell_type": "markdown",
      "source": [
        "#Subiectul 2 - calcularea IoU\n",
        "Scrieti o functie care returneaza valoarea intersectiei supra reuniunii (intersection over union) dintre 2 casete de incadrare. Fiecare caseta de incadrare este exprimata ca o lista de 4 valori intregi reprezentand coordonatele colturilor casetei, respectiv [x1, y1, x2, y2]."
      ],
      "metadata": {
        "id": "xYOjNqmtCJVc"
      }
    },
    {
      "cell_type": "code",
      "source": [
        "import numpy as np"
      ],
      "metadata": {
        "id": "3uvS-EHaCvmX"
      },
      "execution_count": null,
      "outputs": []
    },
    {
      "cell_type": "code",
      "execution_count": null,
      "metadata": {
        "id": "u_2Hd8EQCCHW"
      },
      "outputs": [],
      "source": [
        "def IoU(bbox_1, bbox_2):\n",
        "  # de completat"
      ]
    },
    {
      "cell_type": "code",
      "source": [
        "# Pentru verificare, puteti rula codul de mai jos. Rezultatul fiecarei apelari a functiei IoU este trecut in comentariul din dreapta\n",
        "\n",
        "print('{:.2f}'.format(IoU([39, 63, 203, 112], [54, 66, 198, 114]))) # 0.80\n",
        "print('{:.2f}'.format(IoU([35, 51, 196, 110], [36, 60, 180, 108]))) # 0.73\n",
        "print('{:.2f}'.format(IoU([39, 63, 203, 112], [36, 60, 180, 108]))) # 0.74\n",
        "print('{:.2f}'.format(IoU([35, 51, 196, 110], [54, 66, 198, 114]))) # 0.62\n",
        "print('{:.2f}'.format(IoU([39, 63, 203, 112], [80, 11, 112, 134]))) # 0.15\n",
        "print('{:.2f}'.format(IoU([39, 63, 79, 112], [180, 11, 212, 134]))) # 0.00"
      ],
      "metadata": {
        "id": "QejWNBZZDyBq"
      },
      "execution_count": null,
      "outputs": []
    }
  ]
}