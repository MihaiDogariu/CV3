{
  "nbformat": 4,
  "nbformat_minor": 0,
  "metadata": {
    "colab": {
      "provenance": [],
      "collapsed_sections": [],
      "toc_visible": true,
      "authorship_tag": "ABX9TyMbmBLmbCOihJLo4tQSZCs4",
      "include_colab_link": true
    },
    "kernelspec": {
      "name": "python3",
      "display_name": "Python 3"
    },
    "language_info": {
      "name": "python"
    },
    "accelerator": "GPU"
  },
  "cells": [
    {
      "cell_type": "markdown",
      "metadata": {
        "id": "view-in-github",
        "colab_type": "text"
      },
      "source": [
        "<a href=\"https://colab.research.google.com/github/MihaiDogariu/CV3/blob/main/laborator/CV%203%20-%20Lab%20%233.ipynb\" target=\"_parent\"><img src=\"https://colab.research.google.com/assets/colab-badge.svg\" alt=\"Open In Colab\"/></a>"
      ]
    },
    {
      "cell_type": "markdown",
      "source": [
        "# Elemente fundamentale ale unei rețele neuronale\n",
        "Laboratorul curent abordează mai multe aspecte de bază ale rețelelor neuronale. Aplicația prezentată mai jos are scopul de a prezice vremea pentru ziua următoare. Pornind de la o bază de date cu observații ale mai multor parametri meteorologici pentru ziua curentă, se dorește să prezicem dacă în ziua următoare va ploua sau nu."
      ],
      "metadata": {
        "id": "M0GdQZn0KHtI"
      }
    },
    {
      "cell_type": "code",
      "execution_count": 1,
      "metadata": {
        "id": "SpAc50W-5jqS",
        "colab": {
          "base_uri": "https://localhost:8080/"
        },
        "outputId": "2bd84111-b0cc-49b2-9198-99b7fe402332"
      },
      "outputs": [
        {
          "output_type": "execute_result",
          "data": {
            "text/plain": [
              "<torch._C.Generator at 0x7f837510f890>"
            ]
          },
          "metadata": {},
          "execution_count": 1
        }
      ],
      "source": [
        "import torch\n",
        "import pandas as pd # utilitar folosit pentru gestionarea bazelor de date\n",
        "from sklearn.model_selection import train_test_split # va fi utilizat pentru împărțirea bazei de date în subseturile dorite\n",
        "from sklearn.metrics import confusion_matrix, classification_report\n",
        "import seaborn as sns\n",
        "import matplotlib.pyplot as plt\n",
        "\n",
        "RANDOM_SEED = 1 # pentru reproductibilitate\n",
        "torch.manual_seed(RANDOM_SEED)"
      ]
    },
    {
      "cell_type": "markdown",
      "source": [
        "## 1. Alegerea datelor"
      ],
      "metadata": {
        "id": "HkVt2mtcZ963"
      }
    },
    {
      "cell_type": "markdown",
      "source": [
        "Descarcati baza de date [\"Rain in Australia\"](https://www.kaggle.com/datasets/jsphyg/weather-dataset-rattle-package?resource=download):"
      ],
      "metadata": {
        "id": "7fyidLy7NBS0"
      }
    },
    {
      "cell_type": "code",
      "source": [
        "!gdown 1D-Ua952YzK95yPCJxzr8SWu7ZJGVROJd"
      ],
      "metadata": {
        "colab": {
          "base_uri": "https://localhost:8080/"
        },
        "id": "LSiZJEkgM3vI",
        "outputId": "b458496f-0c5e-491d-e0a1-a4cc14fcc7df"
      },
      "execution_count": 2,
      "outputs": [
        {
          "output_type": "stream",
          "name": "stdout",
          "text": [
            "Downloading...\n",
            "From: https://drive.google.com/uc?id=1D-Ua952YzK95yPCJxzr8SWu7ZJGVROJd\n",
            "To: /content/weatherAUS.csv\n",
            "\r  0% 0.00/14.1M [00:00<?, ?B/s]\r100% 14.1M/14.1M [00:00<00:00, 210MB/s]\n"
          ]
        }
      ]
    },
    {
      "cell_type": "markdown",
      "source": [
        "Fiecare intrare din baza de date contine 23 campuri de informatii <-> 23 de descriptori. Putem analiza o parte din baza de date cu codul de mai jos. Utilitarul `pandas` este specializat în gestionarea bazelor de date si are funcții speciale pentru citirea formatelor de date comune."
      ],
      "metadata": {
        "id": "J1MGjpHrRjPS"
      }
    },
    {
      "cell_type": "code",
      "source": [
        "df = pd.read_csv('weatherAUS.csv')\n",
        "df.head(15)"
      ],
      "metadata": {
        "colab": {
          "base_uri": "https://localhost:8080/",
          "height": 873
        },
        "id": "yVhUHfqIRCLA",
        "outputId": "e340c775-4b9a-440f-8847-9cb3cdd831a6"
      },
      "execution_count": 3,
      "outputs": [
        {
          "output_type": "execute_result",
          "data": {
            "text/plain": [
              "          Date Location  MinTemp  MaxTemp  Rainfall  Evaporation  Sunshine  \\\n",
              "0   2008-12-01   Albury     13.4     22.9       0.6          NaN       NaN   \n",
              "1   2008-12-02   Albury      7.4     25.1       0.0          NaN       NaN   \n",
              "2   2008-12-03   Albury     12.9     25.7       0.0          NaN       NaN   \n",
              "3   2008-12-04   Albury      9.2     28.0       0.0          NaN       NaN   \n",
              "4   2008-12-05   Albury     17.5     32.3       1.0          NaN       NaN   \n",
              "5   2008-12-06   Albury     14.6     29.7       0.2          NaN       NaN   \n",
              "6   2008-12-07   Albury     14.3     25.0       0.0          NaN       NaN   \n",
              "7   2008-12-08   Albury      7.7     26.7       0.0          NaN       NaN   \n",
              "8   2008-12-09   Albury      9.7     31.9       0.0          NaN       NaN   \n",
              "9   2008-12-10   Albury     13.1     30.1       1.4          NaN       NaN   \n",
              "10  2008-12-11   Albury     13.4     30.4       0.0          NaN       NaN   \n",
              "11  2008-12-12   Albury     15.9     21.7       2.2          NaN       NaN   \n",
              "12  2008-12-13   Albury     15.9     18.6      15.6          NaN       NaN   \n",
              "13  2008-12-14   Albury     12.6     21.0       3.6          NaN       NaN   \n",
              "14  2008-12-15   Albury      8.4     24.6       0.0          NaN       NaN   \n",
              "\n",
              "   WindGustDir  WindGustSpeed WindDir9am  ... Humidity9am  Humidity3pm  \\\n",
              "0            W           44.0          W  ...        71.0         22.0   \n",
              "1          WNW           44.0        NNW  ...        44.0         25.0   \n",
              "2          WSW           46.0          W  ...        38.0         30.0   \n",
              "3           NE           24.0         SE  ...        45.0         16.0   \n",
              "4            W           41.0        ENE  ...        82.0         33.0   \n",
              "5          WNW           56.0          W  ...        55.0         23.0   \n",
              "6            W           50.0         SW  ...        49.0         19.0   \n",
              "7            W           35.0        SSE  ...        48.0         19.0   \n",
              "8          NNW           80.0         SE  ...        42.0          9.0   \n",
              "9            W           28.0          S  ...        58.0         27.0   \n",
              "10           N           30.0        SSE  ...        48.0         22.0   \n",
              "11         NNE           31.0         NE  ...        89.0         91.0   \n",
              "12           W           61.0        NNW  ...        76.0         93.0   \n",
              "13          SW           44.0          W  ...        65.0         43.0   \n",
              "14         NaN            NaN          S  ...        57.0         32.0   \n",
              "\n",
              "    Pressure9am  Pressure3pm  Cloud9am  Cloud3pm  Temp9am  Temp3pm  RainToday  \\\n",
              "0        1007.7       1007.1       8.0       NaN     16.9     21.8         No   \n",
              "1        1010.6       1007.8       NaN       NaN     17.2     24.3         No   \n",
              "2        1007.6       1008.7       NaN       2.0     21.0     23.2         No   \n",
              "3        1017.6       1012.8       NaN       NaN     18.1     26.5         No   \n",
              "4        1010.8       1006.0       7.0       8.0     17.8     29.7         No   \n",
              "5        1009.2       1005.4       NaN       NaN     20.6     28.9         No   \n",
              "6        1009.6       1008.2       1.0       NaN     18.1     24.6         No   \n",
              "7        1013.4       1010.1       NaN       NaN     16.3     25.5         No   \n",
              "8        1008.9       1003.6       NaN       NaN     18.3     30.2         No   \n",
              "9        1007.0       1005.7       NaN       NaN     20.1     28.2        Yes   \n",
              "10       1011.8       1008.7       NaN       NaN     20.4     28.8         No   \n",
              "11       1010.5       1004.2       8.0       8.0     15.9     17.0        Yes   \n",
              "12        994.3        993.0       8.0       8.0     17.4     15.8        Yes   \n",
              "13       1001.2       1001.8       NaN       7.0     15.8     19.8        Yes   \n",
              "14       1009.7       1008.7       NaN       NaN     15.9     23.5         No   \n",
              "\n",
              "    RainTomorrow  \n",
              "0             No  \n",
              "1             No  \n",
              "2             No  \n",
              "3             No  \n",
              "4             No  \n",
              "5             No  \n",
              "6             No  \n",
              "7             No  \n",
              "8            Yes  \n",
              "9             No  \n",
              "10           Yes  \n",
              "11           Yes  \n",
              "12           Yes  \n",
              "13            No  \n",
              "14           NaN  \n",
              "\n",
              "[15 rows x 23 columns]"
            ],
            "text/html": [
              "\n",
              "  <div id=\"df-04fd5a85-bf1a-49fc-ba4e-b984b61e48d2\">\n",
              "    <div class=\"colab-df-container\">\n",
              "      <div>\n",
              "<style scoped>\n",
              "    .dataframe tbody tr th:only-of-type {\n",
              "        vertical-align: middle;\n",
              "    }\n",
              "\n",
              "    .dataframe tbody tr th {\n",
              "        vertical-align: top;\n",
              "    }\n",
              "\n",
              "    .dataframe thead th {\n",
              "        text-align: right;\n",
              "    }\n",
              "</style>\n",
              "<table border=\"1\" class=\"dataframe\">\n",
              "  <thead>\n",
              "    <tr style=\"text-align: right;\">\n",
              "      <th></th>\n",
              "      <th>Date</th>\n",
              "      <th>Location</th>\n",
              "      <th>MinTemp</th>\n",
              "      <th>MaxTemp</th>\n",
              "      <th>Rainfall</th>\n",
              "      <th>Evaporation</th>\n",
              "      <th>Sunshine</th>\n",
              "      <th>WindGustDir</th>\n",
              "      <th>WindGustSpeed</th>\n",
              "      <th>WindDir9am</th>\n",
              "      <th>...</th>\n",
              "      <th>Humidity9am</th>\n",
              "      <th>Humidity3pm</th>\n",
              "      <th>Pressure9am</th>\n",
              "      <th>Pressure3pm</th>\n",
              "      <th>Cloud9am</th>\n",
              "      <th>Cloud3pm</th>\n",
              "      <th>Temp9am</th>\n",
              "      <th>Temp3pm</th>\n",
              "      <th>RainToday</th>\n",
              "      <th>RainTomorrow</th>\n",
              "    </tr>\n",
              "  </thead>\n",
              "  <tbody>\n",
              "    <tr>\n",
              "      <th>0</th>\n",
              "      <td>2008-12-01</td>\n",
              "      <td>Albury</td>\n",
              "      <td>13.4</td>\n",
              "      <td>22.9</td>\n",
              "      <td>0.6</td>\n",
              "      <td>NaN</td>\n",
              "      <td>NaN</td>\n",
              "      <td>W</td>\n",
              "      <td>44.0</td>\n",
              "      <td>W</td>\n",
              "      <td>...</td>\n",
              "      <td>71.0</td>\n",
              "      <td>22.0</td>\n",
              "      <td>1007.7</td>\n",
              "      <td>1007.1</td>\n",
              "      <td>8.0</td>\n",
              "      <td>NaN</td>\n",
              "      <td>16.9</td>\n",
              "      <td>21.8</td>\n",
              "      <td>No</td>\n",
              "      <td>No</td>\n",
              "    </tr>\n",
              "    <tr>\n",
              "      <th>1</th>\n",
              "      <td>2008-12-02</td>\n",
              "      <td>Albury</td>\n",
              "      <td>7.4</td>\n",
              "      <td>25.1</td>\n",
              "      <td>0.0</td>\n",
              "      <td>NaN</td>\n",
              "      <td>NaN</td>\n",
              "      <td>WNW</td>\n",
              "      <td>44.0</td>\n",
              "      <td>NNW</td>\n",
              "      <td>...</td>\n",
              "      <td>44.0</td>\n",
              "      <td>25.0</td>\n",
              "      <td>1010.6</td>\n",
              "      <td>1007.8</td>\n",
              "      <td>NaN</td>\n",
              "      <td>NaN</td>\n",
              "      <td>17.2</td>\n",
              "      <td>24.3</td>\n",
              "      <td>No</td>\n",
              "      <td>No</td>\n",
              "    </tr>\n",
              "    <tr>\n",
              "      <th>2</th>\n",
              "      <td>2008-12-03</td>\n",
              "      <td>Albury</td>\n",
              "      <td>12.9</td>\n",
              "      <td>25.7</td>\n",
              "      <td>0.0</td>\n",
              "      <td>NaN</td>\n",
              "      <td>NaN</td>\n",
              "      <td>WSW</td>\n",
              "      <td>46.0</td>\n",
              "      <td>W</td>\n",
              "      <td>...</td>\n",
              "      <td>38.0</td>\n",
              "      <td>30.0</td>\n",
              "      <td>1007.6</td>\n",
              "      <td>1008.7</td>\n",
              "      <td>NaN</td>\n",
              "      <td>2.0</td>\n",
              "      <td>21.0</td>\n",
              "      <td>23.2</td>\n",
              "      <td>No</td>\n",
              "      <td>No</td>\n",
              "    </tr>\n",
              "    <tr>\n",
              "      <th>3</th>\n",
              "      <td>2008-12-04</td>\n",
              "      <td>Albury</td>\n",
              "      <td>9.2</td>\n",
              "      <td>28.0</td>\n",
              "      <td>0.0</td>\n",
              "      <td>NaN</td>\n",
              "      <td>NaN</td>\n",
              "      <td>NE</td>\n",
              "      <td>24.0</td>\n",
              "      <td>SE</td>\n",
              "      <td>...</td>\n",
              "      <td>45.0</td>\n",
              "      <td>16.0</td>\n",
              "      <td>1017.6</td>\n",
              "      <td>1012.8</td>\n",
              "      <td>NaN</td>\n",
              "      <td>NaN</td>\n",
              "      <td>18.1</td>\n",
              "      <td>26.5</td>\n",
              "      <td>No</td>\n",
              "      <td>No</td>\n",
              "    </tr>\n",
              "    <tr>\n",
              "      <th>4</th>\n",
              "      <td>2008-12-05</td>\n",
              "      <td>Albury</td>\n",
              "      <td>17.5</td>\n",
              "      <td>32.3</td>\n",
              "      <td>1.0</td>\n",
              "      <td>NaN</td>\n",
              "      <td>NaN</td>\n",
              "      <td>W</td>\n",
              "      <td>41.0</td>\n",
              "      <td>ENE</td>\n",
              "      <td>...</td>\n",
              "      <td>82.0</td>\n",
              "      <td>33.0</td>\n",
              "      <td>1010.8</td>\n",
              "      <td>1006.0</td>\n",
              "      <td>7.0</td>\n",
              "      <td>8.0</td>\n",
              "      <td>17.8</td>\n",
              "      <td>29.7</td>\n",
              "      <td>No</td>\n",
              "      <td>No</td>\n",
              "    </tr>\n",
              "    <tr>\n",
              "      <th>5</th>\n",
              "      <td>2008-12-06</td>\n",
              "      <td>Albury</td>\n",
              "      <td>14.6</td>\n",
              "      <td>29.7</td>\n",
              "      <td>0.2</td>\n",
              "      <td>NaN</td>\n",
              "      <td>NaN</td>\n",
              "      <td>WNW</td>\n",
              "      <td>56.0</td>\n",
              "      <td>W</td>\n",
              "      <td>...</td>\n",
              "      <td>55.0</td>\n",
              "      <td>23.0</td>\n",
              "      <td>1009.2</td>\n",
              "      <td>1005.4</td>\n",
              "      <td>NaN</td>\n",
              "      <td>NaN</td>\n",
              "      <td>20.6</td>\n",
              "      <td>28.9</td>\n",
              "      <td>No</td>\n",
              "      <td>No</td>\n",
              "    </tr>\n",
              "    <tr>\n",
              "      <th>6</th>\n",
              "      <td>2008-12-07</td>\n",
              "      <td>Albury</td>\n",
              "      <td>14.3</td>\n",
              "      <td>25.0</td>\n",
              "      <td>0.0</td>\n",
              "      <td>NaN</td>\n",
              "      <td>NaN</td>\n",
              "      <td>W</td>\n",
              "      <td>50.0</td>\n",
              "      <td>SW</td>\n",
              "      <td>...</td>\n",
              "      <td>49.0</td>\n",
              "      <td>19.0</td>\n",
              "      <td>1009.6</td>\n",
              "      <td>1008.2</td>\n",
              "      <td>1.0</td>\n",
              "      <td>NaN</td>\n",
              "      <td>18.1</td>\n",
              "      <td>24.6</td>\n",
              "      <td>No</td>\n",
              "      <td>No</td>\n",
              "    </tr>\n",
              "    <tr>\n",
              "      <th>7</th>\n",
              "      <td>2008-12-08</td>\n",
              "      <td>Albury</td>\n",
              "      <td>7.7</td>\n",
              "      <td>26.7</td>\n",
              "      <td>0.0</td>\n",
              "      <td>NaN</td>\n",
              "      <td>NaN</td>\n",
              "      <td>W</td>\n",
              "      <td>35.0</td>\n",
              "      <td>SSE</td>\n",
              "      <td>...</td>\n",
              "      <td>48.0</td>\n",
              "      <td>19.0</td>\n",
              "      <td>1013.4</td>\n",
              "      <td>1010.1</td>\n",
              "      <td>NaN</td>\n",
              "      <td>NaN</td>\n",
              "      <td>16.3</td>\n",
              "      <td>25.5</td>\n",
              "      <td>No</td>\n",
              "      <td>No</td>\n",
              "    </tr>\n",
              "    <tr>\n",
              "      <th>8</th>\n",
              "      <td>2008-12-09</td>\n",
              "      <td>Albury</td>\n",
              "      <td>9.7</td>\n",
              "      <td>31.9</td>\n",
              "      <td>0.0</td>\n",
              "      <td>NaN</td>\n",
              "      <td>NaN</td>\n",
              "      <td>NNW</td>\n",
              "      <td>80.0</td>\n",
              "      <td>SE</td>\n",
              "      <td>...</td>\n",
              "      <td>42.0</td>\n",
              "      <td>9.0</td>\n",
              "      <td>1008.9</td>\n",
              "      <td>1003.6</td>\n",
              "      <td>NaN</td>\n",
              "      <td>NaN</td>\n",
              "      <td>18.3</td>\n",
              "      <td>30.2</td>\n",
              "      <td>No</td>\n",
              "      <td>Yes</td>\n",
              "    </tr>\n",
              "    <tr>\n",
              "      <th>9</th>\n",
              "      <td>2008-12-10</td>\n",
              "      <td>Albury</td>\n",
              "      <td>13.1</td>\n",
              "      <td>30.1</td>\n",
              "      <td>1.4</td>\n",
              "      <td>NaN</td>\n",
              "      <td>NaN</td>\n",
              "      <td>W</td>\n",
              "      <td>28.0</td>\n",
              "      <td>S</td>\n",
              "      <td>...</td>\n",
              "      <td>58.0</td>\n",
              "      <td>27.0</td>\n",
              "      <td>1007.0</td>\n",
              "      <td>1005.7</td>\n",
              "      <td>NaN</td>\n",
              "      <td>NaN</td>\n",
              "      <td>20.1</td>\n",
              "      <td>28.2</td>\n",
              "      <td>Yes</td>\n",
              "      <td>No</td>\n",
              "    </tr>\n",
              "    <tr>\n",
              "      <th>10</th>\n",
              "      <td>2008-12-11</td>\n",
              "      <td>Albury</td>\n",
              "      <td>13.4</td>\n",
              "      <td>30.4</td>\n",
              "      <td>0.0</td>\n",
              "      <td>NaN</td>\n",
              "      <td>NaN</td>\n",
              "      <td>N</td>\n",
              "      <td>30.0</td>\n",
              "      <td>SSE</td>\n",
              "      <td>...</td>\n",
              "      <td>48.0</td>\n",
              "      <td>22.0</td>\n",
              "      <td>1011.8</td>\n",
              "      <td>1008.7</td>\n",
              "      <td>NaN</td>\n",
              "      <td>NaN</td>\n",
              "      <td>20.4</td>\n",
              "      <td>28.8</td>\n",
              "      <td>No</td>\n",
              "      <td>Yes</td>\n",
              "    </tr>\n",
              "    <tr>\n",
              "      <th>11</th>\n",
              "      <td>2008-12-12</td>\n",
              "      <td>Albury</td>\n",
              "      <td>15.9</td>\n",
              "      <td>21.7</td>\n",
              "      <td>2.2</td>\n",
              "      <td>NaN</td>\n",
              "      <td>NaN</td>\n",
              "      <td>NNE</td>\n",
              "      <td>31.0</td>\n",
              "      <td>NE</td>\n",
              "      <td>...</td>\n",
              "      <td>89.0</td>\n",
              "      <td>91.0</td>\n",
              "      <td>1010.5</td>\n",
              "      <td>1004.2</td>\n",
              "      <td>8.0</td>\n",
              "      <td>8.0</td>\n",
              "      <td>15.9</td>\n",
              "      <td>17.0</td>\n",
              "      <td>Yes</td>\n",
              "      <td>Yes</td>\n",
              "    </tr>\n",
              "    <tr>\n",
              "      <th>12</th>\n",
              "      <td>2008-12-13</td>\n",
              "      <td>Albury</td>\n",
              "      <td>15.9</td>\n",
              "      <td>18.6</td>\n",
              "      <td>15.6</td>\n",
              "      <td>NaN</td>\n",
              "      <td>NaN</td>\n",
              "      <td>W</td>\n",
              "      <td>61.0</td>\n",
              "      <td>NNW</td>\n",
              "      <td>...</td>\n",
              "      <td>76.0</td>\n",
              "      <td>93.0</td>\n",
              "      <td>994.3</td>\n",
              "      <td>993.0</td>\n",
              "      <td>8.0</td>\n",
              "      <td>8.0</td>\n",
              "      <td>17.4</td>\n",
              "      <td>15.8</td>\n",
              "      <td>Yes</td>\n",
              "      <td>Yes</td>\n",
              "    </tr>\n",
              "    <tr>\n",
              "      <th>13</th>\n",
              "      <td>2008-12-14</td>\n",
              "      <td>Albury</td>\n",
              "      <td>12.6</td>\n",
              "      <td>21.0</td>\n",
              "      <td>3.6</td>\n",
              "      <td>NaN</td>\n",
              "      <td>NaN</td>\n",
              "      <td>SW</td>\n",
              "      <td>44.0</td>\n",
              "      <td>W</td>\n",
              "      <td>...</td>\n",
              "      <td>65.0</td>\n",
              "      <td>43.0</td>\n",
              "      <td>1001.2</td>\n",
              "      <td>1001.8</td>\n",
              "      <td>NaN</td>\n",
              "      <td>7.0</td>\n",
              "      <td>15.8</td>\n",
              "      <td>19.8</td>\n",
              "      <td>Yes</td>\n",
              "      <td>No</td>\n",
              "    </tr>\n",
              "    <tr>\n",
              "      <th>14</th>\n",
              "      <td>2008-12-15</td>\n",
              "      <td>Albury</td>\n",
              "      <td>8.4</td>\n",
              "      <td>24.6</td>\n",
              "      <td>0.0</td>\n",
              "      <td>NaN</td>\n",
              "      <td>NaN</td>\n",
              "      <td>NaN</td>\n",
              "      <td>NaN</td>\n",
              "      <td>S</td>\n",
              "      <td>...</td>\n",
              "      <td>57.0</td>\n",
              "      <td>32.0</td>\n",
              "      <td>1009.7</td>\n",
              "      <td>1008.7</td>\n",
              "      <td>NaN</td>\n",
              "      <td>NaN</td>\n",
              "      <td>15.9</td>\n",
              "      <td>23.5</td>\n",
              "      <td>No</td>\n",
              "      <td>NaN</td>\n",
              "    </tr>\n",
              "  </tbody>\n",
              "</table>\n",
              "<p>15 rows × 23 columns</p>\n",
              "</div>\n",
              "      <button class=\"colab-df-convert\" onclick=\"convertToInteractive('df-04fd5a85-bf1a-49fc-ba4e-b984b61e48d2')\"\n",
              "              title=\"Convert this dataframe to an interactive table.\"\n",
              "              style=\"display:none;\">\n",
              "        \n",
              "  <svg xmlns=\"http://www.w3.org/2000/svg\" height=\"24px\"viewBox=\"0 0 24 24\"\n",
              "       width=\"24px\">\n",
              "    <path d=\"M0 0h24v24H0V0z\" fill=\"none\"/>\n",
              "    <path d=\"M18.56 5.44l.94 2.06.94-2.06 2.06-.94-2.06-.94-.94-2.06-.94 2.06-2.06.94zm-11 1L8.5 8.5l.94-2.06 2.06-.94-2.06-.94L8.5 2.5l-.94 2.06-2.06.94zm10 10l.94 2.06.94-2.06 2.06-.94-2.06-.94-.94-2.06-.94 2.06-2.06.94z\"/><path d=\"M17.41 7.96l-1.37-1.37c-.4-.4-.92-.59-1.43-.59-.52 0-1.04.2-1.43.59L10.3 9.45l-7.72 7.72c-.78.78-.78 2.05 0 2.83L4 21.41c.39.39.9.59 1.41.59.51 0 1.02-.2 1.41-.59l7.78-7.78 2.81-2.81c.8-.78.8-2.07 0-2.86zM5.41 20L4 18.59l7.72-7.72 1.47 1.35L5.41 20z\"/>\n",
              "  </svg>\n",
              "      </button>\n",
              "      \n",
              "  <style>\n",
              "    .colab-df-container {\n",
              "      display:flex;\n",
              "      flex-wrap:wrap;\n",
              "      gap: 12px;\n",
              "    }\n",
              "\n",
              "    .colab-df-convert {\n",
              "      background-color: #E8F0FE;\n",
              "      border: none;\n",
              "      border-radius: 50%;\n",
              "      cursor: pointer;\n",
              "      display: none;\n",
              "      fill: #1967D2;\n",
              "      height: 32px;\n",
              "      padding: 0 0 0 0;\n",
              "      width: 32px;\n",
              "    }\n",
              "\n",
              "    .colab-df-convert:hover {\n",
              "      background-color: #E2EBFA;\n",
              "      box-shadow: 0px 1px 2px rgba(60, 64, 67, 0.3), 0px 1px 3px 1px rgba(60, 64, 67, 0.15);\n",
              "      fill: #174EA6;\n",
              "    }\n",
              "\n",
              "    [theme=dark] .colab-df-convert {\n",
              "      background-color: #3B4455;\n",
              "      fill: #D2E3FC;\n",
              "    }\n",
              "\n",
              "    [theme=dark] .colab-df-convert:hover {\n",
              "      background-color: #434B5C;\n",
              "      box-shadow: 0px 1px 3px 1px rgba(0, 0, 0, 0.15);\n",
              "      filter: drop-shadow(0px 1px 2px rgba(0, 0, 0, 0.3));\n",
              "      fill: #FFFFFF;\n",
              "    }\n",
              "  </style>\n",
              "\n",
              "      <script>\n",
              "        const buttonEl =\n",
              "          document.querySelector('#df-04fd5a85-bf1a-49fc-ba4e-b984b61e48d2 button.colab-df-convert');\n",
              "        buttonEl.style.display =\n",
              "          google.colab.kernel.accessAllowed ? 'block' : 'none';\n",
              "\n",
              "        async function convertToInteractive(key) {\n",
              "          const element = document.querySelector('#df-04fd5a85-bf1a-49fc-ba4e-b984b61e48d2');\n",
              "          const dataTable =\n",
              "            await google.colab.kernel.invokeFunction('convertToInteractive',\n",
              "                                                     [key], {});\n",
              "          if (!dataTable) return;\n",
              "\n",
              "          const docLinkHtml = 'Like what you see? Visit the ' +\n",
              "            '<a target=\"_blank\" href=https://colab.research.google.com/notebooks/data_table.ipynb>data table notebook</a>'\n",
              "            + ' to learn more about interactive tables.';\n",
              "          element.innerHTML = '';\n",
              "          dataTable['output_type'] = 'display_data';\n",
              "          await google.colab.output.renderOutput(dataTable, element);\n",
              "          const docLink = document.createElement('div');\n",
              "          docLink.innerHTML = docLinkHtml;\n",
              "          element.appendChild(docLink);\n",
              "        }\n",
              "      </script>\n",
              "    </div>\n",
              "  </div>\n",
              "  "
            ]
          },
          "metadata": {},
          "execution_count": 3
        }
      ]
    },
    {
      "cell_type": "code",
      "source": [
        "# Numărul total de intrări în baza de date și dimensiunea unei intrări:\n",
        "print(df.shape)"
      ],
      "metadata": {
        "colab": {
          "base_uri": "https://localhost:8080/"
        },
        "id": "xKH_9Mv3aQyP",
        "outputId": "1bc48dee-4f88-402b-8129-53948a43f60d"
      },
      "execution_count": 4,
      "outputs": [
        {
          "output_type": "stream",
          "name": "stdout",
          "text": [
            "(145460, 23)\n"
          ]
        }
      ]
    },
    {
      "cell_type": "markdown",
      "source": [
        "##2. Pre-procesarea datelor"
      ],
      "metadata": {
        "id": "DGZT9RZqaVmI"
      }
    },
    {
      "cell_type": "code",
      "source": [
        "# Baza de date conține o gamă largă de atribute, însă nu ne interesează toate.\n",
        "# Facem o listă cu descriptorii care sunt de interes dintre toți cei disponibili\n",
        "# TODO: testați cu diferiți descriptori pentru a vedea care dintre ei are o influență mai mare asupra capacității de predicție - adăugați cel puțin 2 alți descriptori existenți în baza de date\n",
        "keep = ['MinTemp', 'MaxTemp', 'Rainfall', 'Humidity3pm', 'Pressure9am', 'RainToday', 'RainTomorrow']\n",
        "\n",
        "# Din întreaga bază de date păstrăm doar datele asociate descriptorilor selectați mai sus\n",
        "df_keep = df[keep]\n",
        "\n",
        "# Unii dintre descriptori sunt reprezentați de valori logice binare (yes/no). Acestea trebuie interpretate sub forma unor valori pe care o rețea neuronală le poate procesa, adică valori numerice.\n",
        "df_keep['RainToday'].replace({'No': 0, 'Yes': 1}, inplace = True)\n",
        "df_keep['RainTomorrow'].replace({'No': 0, 'Yes': 1}, inplace = True)\n",
        "\n",
        "# De asemenea, baza de date conține intrări pentru care nu sunt disponibili toți descriptorii (valori de NaN). O soluție trivială este să eliminăm complet aceste intrări.\n",
        "# TODO: propuneți o altă strategie de abordare a datelor incomplete în acest context.\n",
        "df_keep = df_keep.dropna(how='any')\n",
        "df_keep.head(15)"
      ],
      "metadata": {
        "colab": {
          "base_uri": "https://localhost:8080/",
          "height": 606
        },
        "id": "QmmkMfi9Ry7x",
        "outputId": "b5bb21a6-9aed-4887-8e29-cccb98697828"
      },
      "execution_count": 5,
      "outputs": [
        {
          "output_type": "stream",
          "name": "stderr",
          "text": [
            "/usr/local/lib/python3.7/dist-packages/pandas/core/generic.py:6619: SettingWithCopyWarning: \n",
            "A value is trying to be set on a copy of a slice from a DataFrame\n",
            "\n",
            "See the caveats in the documentation: https://pandas.pydata.org/pandas-docs/stable/user_guide/indexing.html#returning-a-view-versus-a-copy\n",
            "  return self._update_inplace(result)\n"
          ]
        },
        {
          "output_type": "execute_result",
          "data": {
            "text/plain": [
              "    MinTemp  MaxTemp  Rainfall  Humidity3pm  Pressure9am  RainToday  \\\n",
              "0      13.4     22.9       0.6         22.0       1007.7        0.0   \n",
              "1       7.4     25.1       0.0         25.0       1010.6        0.0   \n",
              "2      12.9     25.7       0.0         30.0       1007.6        0.0   \n",
              "3       9.2     28.0       0.0         16.0       1017.6        0.0   \n",
              "4      17.5     32.3       1.0         33.0       1010.8        0.0   \n",
              "5      14.6     29.7       0.2         23.0       1009.2        0.0   \n",
              "6      14.3     25.0       0.0         19.0       1009.6        0.0   \n",
              "7       7.7     26.7       0.0         19.0       1013.4        0.0   \n",
              "8       9.7     31.9       0.0          9.0       1008.9        0.0   \n",
              "9      13.1     30.1       1.4         27.0       1007.0        1.0   \n",
              "10     13.4     30.4       0.0         22.0       1011.8        0.0   \n",
              "11     15.9     21.7       2.2         91.0       1010.5        1.0   \n",
              "12     15.9     18.6      15.6         93.0        994.3        1.0   \n",
              "13     12.6     21.0       3.6         43.0       1001.2        1.0   \n",
              "16     14.1     20.9       0.0         82.0       1012.2        0.0   \n",
              "\n",
              "    RainTomorrow  \n",
              "0            0.0  \n",
              "1            0.0  \n",
              "2            0.0  \n",
              "3            0.0  \n",
              "4            0.0  \n",
              "5            0.0  \n",
              "6            0.0  \n",
              "7            0.0  \n",
              "8            1.0  \n",
              "9            0.0  \n",
              "10           1.0  \n",
              "11           1.0  \n",
              "12           1.0  \n",
              "13           0.0  \n",
              "16           1.0  "
            ],
            "text/html": [
              "\n",
              "  <div id=\"df-1813f601-4c11-4d4b-a3c8-fca102162973\">\n",
              "    <div class=\"colab-df-container\">\n",
              "      <div>\n",
              "<style scoped>\n",
              "    .dataframe tbody tr th:only-of-type {\n",
              "        vertical-align: middle;\n",
              "    }\n",
              "\n",
              "    .dataframe tbody tr th {\n",
              "        vertical-align: top;\n",
              "    }\n",
              "\n",
              "    .dataframe thead th {\n",
              "        text-align: right;\n",
              "    }\n",
              "</style>\n",
              "<table border=\"1\" class=\"dataframe\">\n",
              "  <thead>\n",
              "    <tr style=\"text-align: right;\">\n",
              "      <th></th>\n",
              "      <th>MinTemp</th>\n",
              "      <th>MaxTemp</th>\n",
              "      <th>Rainfall</th>\n",
              "      <th>Humidity3pm</th>\n",
              "      <th>Pressure9am</th>\n",
              "      <th>RainToday</th>\n",
              "      <th>RainTomorrow</th>\n",
              "    </tr>\n",
              "  </thead>\n",
              "  <tbody>\n",
              "    <tr>\n",
              "      <th>0</th>\n",
              "      <td>13.4</td>\n",
              "      <td>22.9</td>\n",
              "      <td>0.6</td>\n",
              "      <td>22.0</td>\n",
              "      <td>1007.7</td>\n",
              "      <td>0.0</td>\n",
              "      <td>0.0</td>\n",
              "    </tr>\n",
              "    <tr>\n",
              "      <th>1</th>\n",
              "      <td>7.4</td>\n",
              "      <td>25.1</td>\n",
              "      <td>0.0</td>\n",
              "      <td>25.0</td>\n",
              "      <td>1010.6</td>\n",
              "      <td>0.0</td>\n",
              "      <td>0.0</td>\n",
              "    </tr>\n",
              "    <tr>\n",
              "      <th>2</th>\n",
              "      <td>12.9</td>\n",
              "      <td>25.7</td>\n",
              "      <td>0.0</td>\n",
              "      <td>30.0</td>\n",
              "      <td>1007.6</td>\n",
              "      <td>0.0</td>\n",
              "      <td>0.0</td>\n",
              "    </tr>\n",
              "    <tr>\n",
              "      <th>3</th>\n",
              "      <td>9.2</td>\n",
              "      <td>28.0</td>\n",
              "      <td>0.0</td>\n",
              "      <td>16.0</td>\n",
              "      <td>1017.6</td>\n",
              "      <td>0.0</td>\n",
              "      <td>0.0</td>\n",
              "    </tr>\n",
              "    <tr>\n",
              "      <th>4</th>\n",
              "      <td>17.5</td>\n",
              "      <td>32.3</td>\n",
              "      <td>1.0</td>\n",
              "      <td>33.0</td>\n",
              "      <td>1010.8</td>\n",
              "      <td>0.0</td>\n",
              "      <td>0.0</td>\n",
              "    </tr>\n",
              "    <tr>\n",
              "      <th>5</th>\n",
              "      <td>14.6</td>\n",
              "      <td>29.7</td>\n",
              "      <td>0.2</td>\n",
              "      <td>23.0</td>\n",
              "      <td>1009.2</td>\n",
              "      <td>0.0</td>\n",
              "      <td>0.0</td>\n",
              "    </tr>\n",
              "    <tr>\n",
              "      <th>6</th>\n",
              "      <td>14.3</td>\n",
              "      <td>25.0</td>\n",
              "      <td>0.0</td>\n",
              "      <td>19.0</td>\n",
              "      <td>1009.6</td>\n",
              "      <td>0.0</td>\n",
              "      <td>0.0</td>\n",
              "    </tr>\n",
              "    <tr>\n",
              "      <th>7</th>\n",
              "      <td>7.7</td>\n",
              "      <td>26.7</td>\n",
              "      <td>0.0</td>\n",
              "      <td>19.0</td>\n",
              "      <td>1013.4</td>\n",
              "      <td>0.0</td>\n",
              "      <td>0.0</td>\n",
              "    </tr>\n",
              "    <tr>\n",
              "      <th>8</th>\n",
              "      <td>9.7</td>\n",
              "      <td>31.9</td>\n",
              "      <td>0.0</td>\n",
              "      <td>9.0</td>\n",
              "      <td>1008.9</td>\n",
              "      <td>0.0</td>\n",
              "      <td>1.0</td>\n",
              "    </tr>\n",
              "    <tr>\n",
              "      <th>9</th>\n",
              "      <td>13.1</td>\n",
              "      <td>30.1</td>\n",
              "      <td>1.4</td>\n",
              "      <td>27.0</td>\n",
              "      <td>1007.0</td>\n",
              "      <td>1.0</td>\n",
              "      <td>0.0</td>\n",
              "    </tr>\n",
              "    <tr>\n",
              "      <th>10</th>\n",
              "      <td>13.4</td>\n",
              "      <td>30.4</td>\n",
              "      <td>0.0</td>\n",
              "      <td>22.0</td>\n",
              "      <td>1011.8</td>\n",
              "      <td>0.0</td>\n",
              "      <td>1.0</td>\n",
              "    </tr>\n",
              "    <tr>\n",
              "      <th>11</th>\n",
              "      <td>15.9</td>\n",
              "      <td>21.7</td>\n",
              "      <td>2.2</td>\n",
              "      <td>91.0</td>\n",
              "      <td>1010.5</td>\n",
              "      <td>1.0</td>\n",
              "      <td>1.0</td>\n",
              "    </tr>\n",
              "    <tr>\n",
              "      <th>12</th>\n",
              "      <td>15.9</td>\n",
              "      <td>18.6</td>\n",
              "      <td>15.6</td>\n",
              "      <td>93.0</td>\n",
              "      <td>994.3</td>\n",
              "      <td>1.0</td>\n",
              "      <td>1.0</td>\n",
              "    </tr>\n",
              "    <tr>\n",
              "      <th>13</th>\n",
              "      <td>12.6</td>\n",
              "      <td>21.0</td>\n",
              "      <td>3.6</td>\n",
              "      <td>43.0</td>\n",
              "      <td>1001.2</td>\n",
              "      <td>1.0</td>\n",
              "      <td>0.0</td>\n",
              "    </tr>\n",
              "    <tr>\n",
              "      <th>16</th>\n",
              "      <td>14.1</td>\n",
              "      <td>20.9</td>\n",
              "      <td>0.0</td>\n",
              "      <td>82.0</td>\n",
              "      <td>1012.2</td>\n",
              "      <td>0.0</td>\n",
              "      <td>1.0</td>\n",
              "    </tr>\n",
              "  </tbody>\n",
              "</table>\n",
              "</div>\n",
              "      <button class=\"colab-df-convert\" onclick=\"convertToInteractive('df-1813f601-4c11-4d4b-a3c8-fca102162973')\"\n",
              "              title=\"Convert this dataframe to an interactive table.\"\n",
              "              style=\"display:none;\">\n",
              "        \n",
              "  <svg xmlns=\"http://www.w3.org/2000/svg\" height=\"24px\"viewBox=\"0 0 24 24\"\n",
              "       width=\"24px\">\n",
              "    <path d=\"M0 0h24v24H0V0z\" fill=\"none\"/>\n",
              "    <path d=\"M18.56 5.44l.94 2.06.94-2.06 2.06-.94-2.06-.94-.94-2.06-.94 2.06-2.06.94zm-11 1L8.5 8.5l.94-2.06 2.06-.94-2.06-.94L8.5 2.5l-.94 2.06-2.06.94zm10 10l.94 2.06.94-2.06 2.06-.94-2.06-.94-.94-2.06-.94 2.06-2.06.94z\"/><path d=\"M17.41 7.96l-1.37-1.37c-.4-.4-.92-.59-1.43-.59-.52 0-1.04.2-1.43.59L10.3 9.45l-7.72 7.72c-.78.78-.78 2.05 0 2.83L4 21.41c.39.39.9.59 1.41.59.51 0 1.02-.2 1.41-.59l7.78-7.78 2.81-2.81c.8-.78.8-2.07 0-2.86zM5.41 20L4 18.59l7.72-7.72 1.47 1.35L5.41 20z\"/>\n",
              "  </svg>\n",
              "      </button>\n",
              "      \n",
              "  <style>\n",
              "    .colab-df-container {\n",
              "      display:flex;\n",
              "      flex-wrap:wrap;\n",
              "      gap: 12px;\n",
              "    }\n",
              "\n",
              "    .colab-df-convert {\n",
              "      background-color: #E8F0FE;\n",
              "      border: none;\n",
              "      border-radius: 50%;\n",
              "      cursor: pointer;\n",
              "      display: none;\n",
              "      fill: #1967D2;\n",
              "      height: 32px;\n",
              "      padding: 0 0 0 0;\n",
              "      width: 32px;\n",
              "    }\n",
              "\n",
              "    .colab-df-convert:hover {\n",
              "      background-color: #E2EBFA;\n",
              "      box-shadow: 0px 1px 2px rgba(60, 64, 67, 0.3), 0px 1px 3px 1px rgba(60, 64, 67, 0.15);\n",
              "      fill: #174EA6;\n",
              "    }\n",
              "\n",
              "    [theme=dark] .colab-df-convert {\n",
              "      background-color: #3B4455;\n",
              "      fill: #D2E3FC;\n",
              "    }\n",
              "\n",
              "    [theme=dark] .colab-df-convert:hover {\n",
              "      background-color: #434B5C;\n",
              "      box-shadow: 0px 1px 3px 1px rgba(0, 0, 0, 0.15);\n",
              "      filter: drop-shadow(0px 1px 2px rgba(0, 0, 0, 0.3));\n",
              "      fill: #FFFFFF;\n",
              "    }\n",
              "  </style>\n",
              "\n",
              "      <script>\n",
              "        const buttonEl =\n",
              "          document.querySelector('#df-1813f601-4c11-4d4b-a3c8-fca102162973 button.colab-df-convert');\n",
              "        buttonEl.style.display =\n",
              "          google.colab.kernel.accessAllowed ? 'block' : 'none';\n",
              "\n",
              "        async function convertToInteractive(key) {\n",
              "          const element = document.querySelector('#df-1813f601-4c11-4d4b-a3c8-fca102162973');\n",
              "          const dataTable =\n",
              "            await google.colab.kernel.invokeFunction('convertToInteractive',\n",
              "                                                     [key], {});\n",
              "          if (!dataTable) return;\n",
              "\n",
              "          const docLinkHtml = 'Like what you see? Visit the ' +\n",
              "            '<a target=\"_blank\" href=https://colab.research.google.com/notebooks/data_table.ipynb>data table notebook</a>'\n",
              "            + ' to learn more about interactive tables.';\n",
              "          element.innerHTML = '';\n",
              "          dataTable['output_type'] = 'display_data';\n",
              "          await google.colab.output.renderOutput(dataTable, element);\n",
              "          const docLink = document.createElement('div');\n",
              "          docLink.innerHTML = docLinkHtml;\n",
              "          element.appendChild(docLink);\n",
              "        }\n",
              "      </script>\n",
              "    </div>\n",
              "  </div>\n",
              "  "
            ]
          },
          "metadata": {},
          "execution_count": 5
        }
      ]
    },
    {
      "cell_type": "code",
      "source": [
        "# Afișăm numărul de zile în care (nu) a plouat, în valori absolute:\n",
        "print(\"Numarul de zile in care nu a plouat: \", df_keep['RainTomorrow'].value_counts()[0])\n",
        "print(\"Numarul de zile in care a plouat: \", df_keep['RainTomorrow'].value_counts()[1])\n",
        "\n",
        "# Afișăm numărul de zile în care (nu) a plouat, în valori relative:\n",
        "df_keep['RainTomorrow'].value_counts() / df_keep.shape[0]"
      ],
      "metadata": {
        "colab": {
          "base_uri": "https://localhost:8080/"
        },
        "id": "gFkw5Asua3qI",
        "outputId": "9ba98ac5-d268-4c16-84d6-db043d4a0fd3"
      },
      "execution_count": 6,
      "outputs": [
        {
          "output_type": "stream",
          "name": "stdout",
          "text": [
            "Numarul de zile in care nu a plouat:  96989\n",
            "Numarul de zile in care a plouat:  27550\n"
          ]
        },
        {
          "output_type": "execute_result",
          "data": {
            "text/plain": [
              "0.0    0.778784\n",
              "1.0    0.221216\n",
              "Name: RainTomorrow, dtype: float64"
            ]
          },
          "metadata": {},
          "execution_count": 6
        }
      ]
    },
    {
      "cell_type": "markdown",
      "source": [
        " Se observă că baza de date este dezechilibrată - numarul de zile in care nu a plouat este de ~3.5x mai mare decat numarul de zile in care a plouat."
      ],
      "metadata": {
        "id": "4rNlvHtYbdS4"
      }
    },
    {
      "cell_type": "code",
      "source": [
        "# Putem alege o tehnică de echilibrare a bazei de date prin sub-eșantionarea clasei puternic reprezentată\n",
        "# TODO: rulați algoritmul cu diferite grade de dezechilibru între cele 2 clase:\n",
        "# no_rain = 3.5x rain (original)\n",
        "# no_rain = 3x rain\n",
        "# no_rain = 2x rain\n",
        "under_sample = True\n",
        "\n",
        "if under_sample:\n",
        "  rain = df_keep[df_keep['RainTomorrow']==1] # selectăm doar intrările pentru care a fost înregistrată ploaie\n",
        "  no_rain = df_keep[df_keep['RainTomorrow']==0] # selectăm doar intrările pentru care nu a fost înregistrată ploaie\n",
        "  no_rain = no_rain.sample(n=len(rain)) # alegem len(rain) eșantioane aleatoare din baza de date no_rain\n",
        "  df_keep = pd.concat([rain,no_rain],axis=0) # concatenăm cele 2 subseturi de date, formând o bază de date cu gradul dorit de dezechilibru\n",
        "\n",
        "# TODO: propuneți o metodă de over_sample, în care clasa slab reprezentată să fie augmentată până la dimensiunea clasei puternic reprezentată\n",
        "\n",
        "print(\"Numarul de zile in care a plouat: \", df_keep['RainTomorrow'].value_counts()[1])\n",
        "print(\"Numarul de zile in care nu a plouat: \", df_keep['RainTomorrow'].value_counts()[0])"
      ],
      "metadata": {
        "colab": {
          "base_uri": "https://localhost:8080/"
        },
        "id": "bFpt29hqYQvo",
        "outputId": "2dffee86-3434-4edc-eec5-03f0636663f2"
      },
      "execution_count": 7,
      "outputs": [
        {
          "output_type": "stream",
          "name": "stdout",
          "text": [
            "Numarul de zile in care a plouat:  27550\n",
            "Numarul de zile in care nu a plouat:  27550\n"
          ]
        }
      ]
    },
    {
      "cell_type": "markdown",
      "source": [
        "Baza de date nou formată este acum împărțită în intrări și ieșiri. Ieșirile reprezintă etichetele datelor de intrare. În acest context, etichetele sunt decizia plouă/nu plouă."
      ],
      "metadata": {
        "id": "4iojMJGURQbk"
      }
    },
    {
      "cell_type": "code",
      "source": [
        "x = df_keep[keep[:-1]]\n",
        "y = df_keep[keep[-1]]"
      ],
      "metadata": {
        "id": "e8RaZ8MJhLcG"
      },
      "execution_count": 8,
      "outputs": []
    },
    {
      "cell_type": "markdown",
      "source": [
        "Împărțim setul de date în train-val-test după regula 70-15-15. Funcția `train_test_split` realizează împărțirea unui set de date în doar 2 subseturi. Prin urmare, trebuie aplicată de două ori:\n",
        "1.   se împarte baza de date originală în `train_val` și `test`;\n",
        "2.   se împarte `train_val` în `train` și `val`.\n",
        "\n"
      ],
      "metadata": {
        "id": "EuavNnT7ihHR"
      }
    },
    {
      "cell_type": "code",
      "source": [
        "train_ratio = 0.7\n",
        "val_ratio = 0.15\n",
        "test_ratio = 0.15\n",
        "\n",
        "# Împărțirea bazei originale în 'train_val' și 'test':\n",
        "x_train_val, x_test, y_train_val, y_test = train_test_split(x, y, test_size=test_ratio)\n",
        "print('Dimensiuni baza train_val: {}\\tDimensiuni baza test: {}'.format(x_train_val.shape, x_test.shape))\n",
        "\n",
        "# Împărțirea 'train_val' în 'train' și 'val'\n",
        "x_train, x_val, y_train, y_val = train_test_split(x_train_val, y_train_val, test_size=val_ratio/(val_ratio + train_ratio)) \n",
        "print('Dimensiuni baza train: {}\\tDimensiuni baza val: {}\\tDimensiuni baza test:{}'.format(x_train.shape, x_val.shape, x_test.shape))"
      ],
      "metadata": {
        "colab": {
          "base_uri": "https://localhost:8080/"
        },
        "id": "yp9gwFQfiZUz",
        "outputId": "91e4d6e4-d5ad-4ac8-ad57-95788a5612d1"
      },
      "execution_count": 9,
      "outputs": [
        {
          "output_type": "stream",
          "name": "stdout",
          "text": [
            "Dimensiuni baza train_val: (46835, 6)\tDimensiuni baza test: (8265, 6)\n",
            "Dimensiuni baza train: (38570, 6)\tDimensiuni baza val: (8265, 6)\tDimensiuni baza test:(8265, 6)\n"
          ]
        }
      ]
    },
    {
      "cell_type": "markdown",
      "source": [
        "Trecem toate datele din format `pandas.DataFrame` în format `Tensor` pentru a putea fi procesate de către PyTorch."
      ],
      "metadata": {
        "id": "Zpl4yrYqTFJ0"
      }
    },
    {
      "cell_type": "code",
      "source": [
        "x_train = torch.from_numpy(x_train.to_numpy()).float()\n",
        "y_train = torch.squeeze(torch.from_numpy(y_train.to_numpy()).float())\n",
        "\n",
        "x_val = torch.from_numpy(x_val.to_numpy()).float()\n",
        "y_val = torch.squeeze(torch.from_numpy(y_val.to_numpy()).float())\n",
        "\n",
        "x_test = torch.from_numpy(x_test.to_numpy()).float()\n",
        "y_test = torch.squeeze(torch.from_numpy(y_test.to_numpy()).float())\n",
        "\n",
        "print(x_train.shape, y_train.shape)\n",
        "print(x_val.shape, y_val.shape)\n",
        "print(x_test.shape, y_test.shape)"
      ],
      "metadata": {
        "colab": {
          "base_uri": "https://localhost:8080/"
        },
        "id": "k65jnrT5l-qj",
        "outputId": "364efe9b-6ced-45f4-c931-6308815b62bd"
      },
      "execution_count": 10,
      "outputs": [
        {
          "output_type": "stream",
          "name": "stdout",
          "text": [
            "torch.Size([38570, 6]) torch.Size([38570])\n",
            "torch.Size([8265, 6]) torch.Size([8265])\n",
            "torch.Size([8265, 6]) torch.Size([8265])\n"
          ]
        }
      ]
    },
    {
      "cell_type": "markdown",
      "source": [
        "##3. Antrenarea și validarea modelului"
      ],
      "metadata": {
        "id": "6wHvU5kumUEo"
      }
    },
    {
      "cell_type": "markdown",
      "source": [
        "Primul pas este crearea modelului de rețea neuronală. În PyTorch, modelele sunt crate, de regulă, sub forma unei clase care moștenește clasa `torch.nn.Module`. Modelul trebuie să definească 2 funcții:\n",
        "\n",
        "\n",
        "1.   `__init__()` - stabilește structura straturilor rețelei;\n",
        "2.   `forward()` - stabilește comportamentul în faza de feedforward.\n",
        "\n"
      ],
      "metadata": {
        "id": "9AU-WGJ1XsaU"
      }
    },
    {
      "cell_type": "code",
      "source": [
        "class Net(torch.nn.Module):\n",
        "\n",
        "  def __init__(self, n_features): # argumentul n_features este folosit pentru a stabili dimensiunea stratului de intrare la aceeași valoare cu dimensiunea intrării din baza de date\n",
        "    super(Net, self).__init__()\n",
        "    self.fc1 = torch.nn.Linear(n_features, 5) # strat fully connected, care leagă intrarea la un strat cu 5 neuroni\n",
        "    self.fc2 = torch.nn.Linear(5, 3) # strat fully connected, care leagă 5 neuroni din stratul precedent la un strat cu 3 neuroni\n",
        "    self.fc3 = torch.nn.Linear(3, 1) # strat fully connected, care leagă 3 neuroni din stratul precedent la un strat cu un singur neuron, reprezentând ieșirea sistemului\n",
        "\n",
        "  def forward(self, x): # aplicarea funcțiilor de activare după fiecare strat fully connected \n",
        "    x = torch.nn.functional.relu(self.fc1(x))\n",
        "    x = torch.nn.functional.relu(self.fc2(x))\n",
        "    return torch.sigmoid(self.fc3(x))\n",
        "\n",
        "# TODO: încercați diferite variații pentru modelul de mai jos. Idei legate de ce puteți modifica:\n",
        "# 1. numărul de neuroni/strat;\n",
        "# 2. numărul de straturi;\n",
        "# 3. funcțiile de activare\n",
        "# !!!Atenție: dimensiunea de intrare în primul strat trebuie să fie mereu egală cu dimensiunea intrărilor din baza de date de antrenare\n",
        "# !!!Atenție: dimensiunea de ieșire din ultimul strat trebuie mereu să fie 1 pentru această aplicație - ne dorim să obținem o singură valoare care ne spune dacă va ploua sau nu va ploua în ziua următoare\n",
        "# !!!Atenție: ieșirea trebuie să poată fi interpretată cu ușurință într-o decizie binară."
      ],
      "metadata": {
        "id": "sDpO8Pl8mTqg"
      },
      "execution_count": 11,
      "outputs": []
    },
    {
      "cell_type": "markdown",
      "source": [
        "Inițializarea rețelei, a funcției de cost și a optimizatorului "
      ],
      "metadata": {
        "id": "-lGYLICmZlxl"
      }
    },
    {
      "cell_type": "code",
      "source": [
        "net=Net(x_train.shape[1]) # apelează funcția Net.__init()__ pentru a inițializa modelul rețelei neuronale\n",
        "criterion = torch.nn.BCELoss() # funcția de cost este Binary Cross-Entropy Loss\n",
        "optimizer = torch.optim.Adam(net.parameters(), lr=0.01) # optimizatorul Adam\n",
        "\n",
        "# TODO: încercați diferițiti hiper-parametri:\n",
        "# 1. selectați alt optimizator\n",
        "# 2. selectați valori diferite pentru rata de învățare"
      ],
      "metadata": {
        "id": "lQhWLMRDmqg3"
      },
      "execution_count": 12,
      "outputs": []
    },
    {
      "cell_type": "markdown",
      "source": [
        "Încărcarea tuturor datelor și funcțiilor pe GPU"
      ],
      "metadata": {
        "id": "521c_blhbCpO"
      }
    },
    {
      "cell_type": "code",
      "source": [
        "device = torch.device(\"cuda:0\" if torch.cuda.is_available() else \"cpu\")\n",
        "\n",
        "x_train = x_train.to(device)\n",
        "y_train = y_train.to(device)\n",
        "\n",
        "x_val = x_val.to(device)\n",
        "y_val = y_val.to(device)\n",
        "\n",
        "x_test = x_test.to(device)\n",
        "y_test = y_test.to(device)\n",
        "\n",
        "net = net.to(device)\n",
        "\n",
        "criterion = criterion.to(device)\n",
        "\n",
        "# TODO: rulați algoritmii atât pe cpu, cât și pe gpu pentru a observa diferența de performanță"
      ],
      "metadata": {
        "id": "frhlNoItnPhs"
      },
      "execution_count": 13,
      "outputs": []
    },
    {
      "cell_type": "markdown",
      "source": [
        "Funcții auxiliare"
      ],
      "metadata": {
        "id": "pv_gU9U_bKJx"
      }
    },
    {
      "cell_type": "code",
      "source": [
        "# Funcție de calcul a acurateții - se va discuta în cursurile următoare.\n",
        "def calculate_accuracy(y_true, y_pred):\n",
        "  predicted = y_pred.ge(.5).view(-1)\n",
        "  return (y_true == predicted).sum().float() / len(y_true)\n",
        "\n",
        "# Funcție de rotunjire a unui tensor la un anumit număr de zecimale \n",
        "def round_tensor(t, decimal_places=3):\n",
        "  return round(t.item(), decimal_places)"
      ],
      "metadata": {
        "id": "q1iy47cbnZSO"
      },
      "execution_count": 14,
      "outputs": []
    },
    {
      "cell_type": "markdown",
      "source": [
        "Antrenarea propriu-zisă"
      ],
      "metadata": {
        "id": "PE9K7L1Sb7jc"
      }
    },
    {
      "cell_type": "code",
      "source": [
        "for epoch in range(1000):\n",
        "    \n",
        "    y_pred = net(x_train) # apelează funcția Net.forward(x_train) <-> execută forward propagation\n",
        "    y_pred = torch.squeeze(y_pred) # se elimină toate dimensiunile de 1 ale tensorului\n",
        "    train_loss = criterion(y_pred, y_train) # se calculează valoarea funcției de cost\n",
        "    \n",
        "    if epoch % 100 == 0: # vom afișa valorile înregistrate la fiecare 100 de epoci pe baza de date de validare\n",
        "      train_acc = calculate_accuracy(y_train, y_pred) # calculăm acuratețea obținută pe baza de date de antrenare\n",
        "\n",
        "      y_val_pred = net(x_val) # calculăm ieșirea rețelei pentru baza de date de validare\n",
        "      y_pred = torch.squeeze(y_pred) # se elimină toate dimensiunile de 1 ale tensorului\n",
        "      y_val_pred = torch.squeeze(y_val_pred) # se elimină toate dimensiunile de 1 ale tensorului\n",
        "\n",
        "      val_loss = criterion(y_val_pred, y_val) # se calculează funcția de cost pentru baza de date de validare\n",
        "\n",
        "      val_acc = calculate_accuracy(y_val, y_val_pred) # se calculează acuratețea obținută ăe baza de date de validare\n",
        "      print(\"epoch {}\\nTrain set - loss: {}, accuracy: {}\\nTest  set - loss: {}, accuracy: {}\"\n",
        "            .format(epoch, \n",
        "                    round_tensor(train_loss), round_tensor(train_acc), \n",
        "                    round_tensor(val_loss), round_tensor(val_acc)))\n",
        "    \n",
        "    optimizer.zero_grad() # se anulează gradienții existenți pentru a preveni acumularea lor de la o epocă la alta\n",
        "    \n",
        "    train_loss.backward() # se calculează gradienții pentru iterația actuală\n",
        "    \n",
        "    optimizer.step() # se realizează propagarea înapoi a gradienților calculați la instrucțiunea precedentă și actualizarea ponderilor rețelei"
      ],
      "metadata": {
        "colab": {
          "base_uri": "https://localhost:8080/"
        },
        "id": "_nVIaqzNnvXP",
        "outputId": "4040d106-66d6-41c6-dc53-a86901aa40a2"
      },
      "execution_count": 15,
      "outputs": [
        {
          "output_type": "stream",
          "name": "stdout",
          "text": [
            "epoch 0\n",
            "Train set - loss: 2.866, accuracy: 0.502\n",
            "Test  set - loss: 2.866, accuracy: 0.502\n",
            "epoch 100\n",
            "Train set - loss: 0.53, accuracy: 0.74\n",
            "Test  set - loss: 0.533, accuracy: 0.736\n",
            "epoch 200\n",
            "Train set - loss: 0.527, accuracy: 0.739\n",
            "Test  set - loss: 0.53, accuracy: 0.737\n",
            "epoch 300\n",
            "Train set - loss: 0.524, accuracy: 0.742\n",
            "Test  set - loss: 0.527, accuracy: 0.737\n",
            "epoch 400\n",
            "Train set - loss: 0.521, accuracy: 0.743\n",
            "Test  set - loss: 0.523, accuracy: 0.74\n",
            "epoch 500\n",
            "Train set - loss: 0.521, accuracy: 0.743\n",
            "Test  set - loss: 0.522, accuracy: 0.742\n",
            "epoch 600\n",
            "Train set - loss: 0.521, accuracy: 0.744\n",
            "Test  set - loss: 0.522, accuracy: 0.743\n",
            "epoch 700\n",
            "Train set - loss: 0.52, accuracy: 0.743\n",
            "Test  set - loss: 0.522, accuracy: 0.742\n",
            "epoch 800\n",
            "Train set - loss: 0.52, accuracy: 0.743\n",
            "Test  set - loss: 0.522, accuracy: 0.742\n",
            "epoch 900\n",
            "Train set - loss: 0.52, accuracy: 0.743\n",
            "Test  set - loss: 0.522, accuracy: 0.742\n"
          ]
        }
      ]
    },
    {
      "cell_type": "markdown",
      "source": [
        "După antrenarea și optimizarea algoritmului pe bazele `train` și `val`, urmează validarea algoritmului pe baza de date care nu a mai fost utilizată până acum, subsetul `test`."
      ],
      "metadata": {
        "id": "YxDbDq3UvDPC"
      }
    },
    {
      "cell_type": "code",
      "source": [
        "classes = ['No rain', 'Raining']\n",
        "\n",
        "y_pred = net(x_test)\n",
        "\n",
        "y_pred = y_pred.ge(.5).view(-1).cpu()\n",
        "y_test = y_test.cpu()\n",
        "\n",
        "print(classification_report(y_test, y_pred, target_names=classes))"
      ],
      "metadata": {
        "colab": {
          "base_uri": "https://localhost:8080/"
        },
        "id": "1-FeKlWMontP",
        "outputId": "6e0bc2fa-9405-450f-9b60-5ac3636956d6"
      },
      "execution_count": 16,
      "outputs": [
        {
          "output_type": "stream",
          "name": "stdout",
          "text": [
            "              precision    recall  f1-score   support\n",
            "\n",
            "     No rain       0.72      0.78      0.75      4059\n",
            "     Raining       0.77      0.71      0.74      4206\n",
            "\n",
            "    accuracy                           0.75      8265\n",
            "   macro avg       0.75      0.75      0.75      8265\n",
            "weighted avg       0.75      0.75      0.75      8265\n",
            "\n"
          ]
        }
      ]
    },
    {
      "cell_type": "code",
      "source": [
        "cm = confusion_matrix(y_test, y_pred)\n",
        "df_cm = pd.DataFrame(cm, index=classes, columns=classes)\n",
        "\n",
        "hmap = sns.heatmap(df_cm, annot=True, fmt=\"d\")\n",
        "hmap.yaxis.set_ticklabels(hmap.yaxis.get_ticklabels(), rotation=0, ha='right')\n",
        "hmap.xaxis.set_ticklabels(hmap.xaxis.get_ticklabels(), rotation=30, ha='right')\n",
        "plt.ylabel('True label')\n",
        "plt.xlabel('Predicted label');"
      ],
      "metadata": {
        "colab": {
          "base_uri": "https://localhost:8080/",
          "height": 297
        },
        "id": "x3dNfXpmpOhU",
        "outputId": "07191d41-fd96-42fa-df79-63c6a8077e15"
      },
      "execution_count": 17,
      "outputs": [
        {
          "output_type": "display_data",
          "data": {
            "text/plain": [
              "<Figure size 432x288 with 2 Axes>"
            ],
            "image/png": "[encoded data removed]"
          },
          "metadata": {
            "needs_background": "light"
          }
        }
      ]
    }
  ]
}