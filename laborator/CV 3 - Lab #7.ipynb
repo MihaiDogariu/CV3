{
 "nbformat": 4,
 "nbformat_minor": 0,
 "metadata": {
  "colab": {
   "provenance": [],
   "authorship_tag": "ABX9TyNCwdjZQN90PXERI0s+nUXc",
   "include_colab_link": true
  },
  "kernelspec": {
   "name": "python3",
   "display_name": "Python 3"
  },
  "language_info": {
   "name": "python"
  }
 },
 "cells": [
  {
   "cell_type": "code",
   "execution_count": null,
   "outputs": [],
   "source": [
    "<a href=\"https://colab.research.google.com/github/MihaiDogariu/CV3/blob/main/laborator/CV%203%20-%20Lab%20%237.ipynb\" target=\"_parent\"><img src=\"https://colab.research.google.com/assets/colab-badge.svg\" alt=\"Open In Colab\"/></a>"
   ],
   "metadata": {
    "collapsed": false,
    "pycharm": {
     "name": "#%%\n"
    }
   }
  },
  {
   "cell_type": "markdown",
   "source": [
    "# Detector Moș Crăciun\n",
    "\n",
    "Să se realizeze o aplicație care îl detectează pe Moș Crăciun în imagini.\n",
    "Procesul, pentru fiecare imagine, este următorul:\n",
    "1. se rulează detectorul de obiecte pe imaginea curentă;\n",
    "1. se selectează doar casetele de încadrare/măștile obiectelor din clasa \"person\";\n",
    "1. se calculează procentul de culoare roșie din fiecare casetă/mască (considerăm culoarea roșie toate nuanțele ce se încadrează în intervalul [210, 0, 0] - [255, 60, 60]; intervalul este flexibil și poate fi adaptat)\n",
    "1. se calculează procentul de culoare albă din fiecare casetă/mască (considerăm culoarea albă toate nuanțele ce se încadrează în intervalul [220, 220, 220] - [255, 255, 255]; intervalul este flexibil și poate fi adaptat);\n",
    "1. pe baza procentajului de culoare roșie și albă se determină dacă persoana respectivă este Moș Crăciun sau nu, e.g. Moș Crăciun se află în imaginile unde au fost depistate persoane, procentajul de culoare roșie din mască depășește 20%, iar cel de culoare albă depășește 15%.\n",
    "\n",
    "Se va porni de la codul de mai jos (similar cu laboratorul precedent, însă detectorul este Mask R-CNN, în loc de Faster R-CNN).\n",
    "\n",
    "# \\#TODO:\n",
    "1. implementați o funcție care calculează procentajul de culori roșu și alb dintr-o casetă de încadrare;\n",
    "1. implementați o funcție care calculează procentajul de culori roșu și alb dintr-o mască de segmentare;\n",
    "1. determinați empiric valorile pragurilor peste care trebuie să se situeze culorile respective pentru a-l detecta pe Moș Crăciun (în mod normal, procesarea casetelor va avea alte praguri față de procesarea măștilor);\n",
    "1. în imaginea de ieșire păstrați culorile imaginii originale doar pe caseta de încadrare/masca în care a fost detectat Moș Crăciun - transformați restul imaginii în nuanțe de gri (imagine grayscale);\n",
    "1. comparați rezultatele obținute cu cele 2 tipuri de procesări;\n",
    "1. descărcați încă 4 imagini cu Moș Crăciun și testați-le cu valorile găsite."
   ],
   "metadata": {
    "id": "fs4MZMygdyBf",
    "pycharm": {
     "name": "#%% md\n"
    }
   }
  },
  {
   "cell_type": "code",
   "execution_count": null,
   "metadata": {
    "id": "J4Dl_XYYBUoA",
    "pycharm": {
     "name": "#%%\n"
    }
   },
   "outputs": [],
   "source": [
    "# se importa bibliotecile utilizate\n",
    "%matplotlib inline\n",
    "import matplotlib.pyplot as plt \n",
    "import torch\n",
    "import torchvision.transforms as T\n",
    "import torchvision\n",
    "import numpy as np\n",
    "import cv2\n",
    "import warnings\n",
    "warnings.filterwarnings('ignore')\n",
    "\n",
    "from IPython.display import HTML\n",
    "from PIL import Image"
   ]
  },
  {
   "cell_type": "code",
   "source": [
    "# se descarca un numar aleator de imagini care contin persoane imbracate in Mos Craciun\n",
    "!wget -nv https://static01.nyt.com/images/2020/11/21/us/00xp-santa-print/merlin_179905233_257c3550-7981-4341-b244-8f0e28a864c5-mobileMasterAt3x.jpg -O 1.jpg\n",
    "!wget -nv https://media.cnn.com/api/v1/images/stellar/prod/211112151622-01-mall-santa-2020.jpg?q=x_38,y_233,h_1652,w_2937,c_crop/h_720,w_1280 -O 2.jpg\n",
    "!wget -nv https://static.tvtropes.org/pmwiki/pub/images/mallsanta_9838.jpg -O 3.jpg\n",
    "!wget -nv https://s.yimg.com/ny/api/res/1.2/l55xcp6q18xeWOE30sVL7A--/YXBwaWQ9aGlnaGxhbmRlcjt3PTk2MDtoPTU0MA--/https://media.zenfs.com/en/thedailybeast.com/4dde6d5f44312d8aed36c5f346e7c0d7 -O 4.jpg"
   ],
   "metadata": {
    "id": "_XPxIKgqbVt5",
    "pycharm": {
     "name": "#%%\n"
    }
   },
   "execution_count": null,
   "outputs": []
  },
  {
   "cell_type": "code",
   "source": [
    "# se descarca modelul pre-antrenat: Faster R-CNN cu backbone ResNet-50 si Feature Pyramid Network\n",
    "model = torchvision.models.detection.maskrcnn_resnet50_fpn_v2(pretrained=True)\n",
    "# se seteaza modelul in starea de evaluare/inferenta - acest atribut schimba comportamentul unor straturi fata de modul in care se comporta in timpul antrenarii, e.g. batch normalization\n",
    "model.eval()\n",
    "\n",
    "\n",
    "# se incarca lista de etichete a bazei de date MS-COCO\n",
    "COCO_INSTANCE_CATEGORY_NAMES = [\n",
    "    'bg', 'person', 'bicycle', 'car', 'motorcycle', 'airplane', 'bus',\n",
    "    'train', 'truck', 'boat', 'traffic light', 'fire hydrant', 'N/A', 'stop sign',\n",
    "    'parking meter', 'bench', 'bird', 'cat', 'dog', 'horse', 'sheep', 'cow',\n",
    "    'elephant', 'bear', 'zebra', 'giraffe', 'N/A', 'backpack', 'umbrella', 'N/A', 'N/A',\n",
    "    'handbag', 'tie', 'suitcase', 'frisbee', 'skis', 'snowboard', 'sports ball',\n",
    "    'kite', 'baseball bat', 'baseball glove', 'skateboard', 'surfboard', 'tennis racket',\n",
    "    'bottle', 'N/A', 'wine glass', 'cup', 'fork', 'knife', 'spoon', 'bowl',\n",
    "    'banana', 'apple', 'sandwich', 'orange', 'broccoli', 'carrot', 'hot dog', 'pizza',\n",
    "    'donut', 'cake', 'chair', 'couch', 'potted plant', 'bed', 'N/A', 'dining table',\n",
    "    'N/A', 'N/A', 'toilet', 'N/A', 'tv', 'laptop', 'mouse', 'remote', 'keyboard', 'cell phone',\n",
    "    'microwave', 'oven', 'toaster', 'sink', 'refrigerator', 'N/A', 'book',\n",
    "    'clock', 'vase', 'scissors', 'teddy bear', 'hair drier', 'toothbrush'\n",
    "]"
   ],
   "metadata": {
    "id": "Rs4B9sF8ExT7",
    "pycharm": {
     "name": "#%%\n"
    }
   },
   "execution_count": null,
   "outputs": []
  },
  {
   "cell_type": "code",
   "source": [
    "# functie de detectie: citeste o imagine, o pre-proceseaza, o propaga prin model si intoarce rezultatele detectiei\n",
    "def get_prediction(img_path, confidence_threshold):\n",
    "  img = Image.open(img_path) # se deschide imaginea folosind calea sa absoluta ca argument\n",
    "  transform = T.Compose([T.ToTensor()]) # se creeaza un set de transformari pe care le vom aplica fiecarei imagini citite - in acest caz, este suficienta doar transformarea imaginii in tensor\n",
    "  img = transform(img) # se aplica transformarea pe imaginea deschisa\n",
    "  pred = model([img]) # se propaga imaginea prin modelul de detectie\n",
    "                      # pentru fiecare imagine din lista de intrare se returneaza un dictionar care contine:\n",
    "                      # 1. lista de casete de incadrare\n",
    "                      # 2. lista de clase detectate\n",
    "                      # 3. lista de scoruri (confidence score) asociate detectiilor\n",
    "                      # detectiile sunt plasate in lista de iesire in ordinea descrescatoare a scorului de detectie\n",
    "  pred_class = [COCO_INSTANCE_CATEGORY_NAMES[i] for i in list(pred[0]['labels'].numpy())] # se transforma lista de clase numerice detectate in lista de cuvinte asociate claselor conform bazei MS-COCO\n",
    "  pred_boxes = [[int(i[0]), int(i[1]), int(i[2]), int(i[3])] for i in list(pred[0]['boxes'].detach().numpy())]  # se extrag casetele de incadrare \n",
    "                                                                                                                    # fiecare coordonata trebuie transformata manual in data de tipul int, deoarece, \n",
    "                                                                                                                    # in urma regresiei casetelor de incadrare, coordonatele sunt calculate ca valori reale\n",
    "  pred_score = list(pred[0]['scores'].detach().numpy()) # se extrag scorurile de detectie\n",
    "  pred_masks = list(pred[0]['masks'].detach().numpy().squeeze()) # se extrag mastile de detectie\n",
    "  pred_t = [pred_score.index(x) for x in pred_score if x>confidence_threshold][-1] # se selecteaza indecsii detectiilor al caror scor depaseste pragul impus\n",
    "  pred_boxes = pred_boxes[:pred_t+1] # se selecteaza doar casetele de incadrare ale obiectelor al caror scor depaseste pragul impus\n",
    "  pred_class = pred_class[:pred_t+1] # se selecteaza doar clasele obiectelor al caror scor depaseste pragul impus\n",
    "  pred_score = pred_score[:pred_t+1] # se selecteaza doar scorurile obiectelor care depasesc pragul impus\n",
    "  pred_masks = pred_masks[:pred_t+1] # se selecteaza doar mastile obiectelor care depasesc pragul impus\n",
    "  return pred_boxes, pred_class, pred_score, pred_masks"
   ],
   "metadata": {
    "id": "RHjs3mkDE-XJ",
    "pycharm": {
     "name": "#%%\n"
    }
   },
   "execution_count": null,
   "outputs": []
  },
  {
   "cell_type": "code",
   "source": [
    "# functie care apeleaza functia de detectie pentru o imagine si afiseaza rezultatele\n",
    "def detect_object(img_path, confidence=0.5, rect_th=2, text_size=0.5, text_th=1):\n",
    "  boxes, pred_cls, score, masks = get_prediction(img_path, confidence) # rularea detectiei\n",
    "  # afisarea rezultatelor pe imaginea originala:\n",
    "  img = cv2.imread(img_path)\n",
    "  img = cv2.cvtColor(img, cv2.COLOR_BGR2RGB)\n",
    "  for i in range(len(boxes)):\n",
    "    cv2.rectangle(img, (boxes[i][0], boxes[i][1]), (boxes[i][2], boxes[i][3]), color=(0, 255, 0), thickness=rect_th) # afisarea casetei de incadrare\n",
    "    cv2.putText(img,\"{}:{:.2f}\".format(pred_cls[i], score[i]), (boxes[i][0], boxes[i][1]-6), cv2.FONT_HERSHEY_SIMPLEX, text_size, (0,255,0),thickness=text_th) # afisarea clasei si a scorului pentru fiecare caseta\n",
    "  plt.figure(figsize=(20,30))\n",
    "  plt.imshow(img)\n",
    "  plt.xticks([])\n",
    "  plt.yticks([])\n",
    "  plt.show()"
   ],
   "metadata": {
    "id": "-lc0S2mOFAS4",
    "pycharm": {
     "name": "#%%\n"
    }
   },
   "execution_count": null,
   "outputs": []
  },
  {
   "cell_type": "code",
   "source": [
    "detect_object('3.jpg', confidence=0.7)"
   ],
   "metadata": {
    "id": "d7x7TzauFB-D",
    "pycharm": {
     "name": "#%%\n"
    }
   },
   "execution_count": null,
   "outputs": []
  }
 ]
}