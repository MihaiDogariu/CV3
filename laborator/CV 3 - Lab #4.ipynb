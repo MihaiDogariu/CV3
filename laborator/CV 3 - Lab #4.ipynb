{
  "nbformat": 4,
  "nbformat_minor": 0,
  "metadata": {
    "colab": {
      "provenance": [],
      "collapsed_sections": [],
      "authorship_tag": "ABX9TyPhNqwn5z8TLG6oOZ0CIcJS",
      "include_colab_link": true
    },
    "kernelspec": {
      "name": "python3",
      "display_name": "Python 3"
    },
    "language_info": {
      "name": "python"
    },
    "accelerator": "GPU",
    "gpuClass": "standard"
  },
  "cells": [
    {
      "cell_type": "markdown",
      "metadata": {
        "id": "view-in-github",
        "colab_type": "text"
      },
      "source": [
        "<a href=\"https://colab.research.google.com/github/MihaiDogariu/CV3/blob/main/laborator/CV%203%20-%20Lab%20%234.ipynb\" target=\"_parent\"><img src=\"https://colab.research.google.com/assets/colab-badge.svg\" alt=\"Open In Colab\"/></a>"
      ]
    },
    {
      "cell_type": "markdown",
      "source": [
        "#Clasificarea imaginilor\n",
        "Acest proiect implementeaza arhitectura AlexNet pentru clasificarea imaginilor reale. Baza de date aleasa pentru demonstratie este CIFAR10."
      ],
      "metadata": {
        "id": "cVj8IalH4YlD"
      }
    },
    {
      "cell_type": "code",
      "execution_count": null,
      "metadata": {
        "id": "-nROe8lDRLzn"
      },
      "outputs": [],
      "source": [
        "import numpy as np\n",
        "import torch\n",
        "import torch.nn as nn\n",
        "from torchvision import datasets\n",
        "from torchvision import transforms\n",
        "from torch.utils.data.sampler import SubsetRandomSampler\n",
        "from tqdm import tqdm\n",
        "\n",
        "\n",
        "# Alegem configuratia sistemului (cpu/gpu)\n",
        "device = torch.device('cuda' if torch.cuda.is_available() else 'cpu')\n",
        "\n",
        "# Setam media si deviatia standard pentru normalizarea bazei de date - acestea sunt calculate la nivel de canal si doar pe baza de date de antrenare!\n",
        "normalize = transforms.Normalize(mean=[0.4914, 0.4822, 0.4465], std=[0.2023, 0.1994, 0.2010])"
      ]
    },
    {
      "cell_type": "markdown",
      "source": [
        "##1. Pre-procesarea datelor"
      ],
      "metadata": {
        "id": "Dj5xxj71llow"
      }
    },
    {
      "cell_type": "code",
      "source": [
        "def get_train_valid_loader(data_dir,\n",
        "                           batch_size,\n",
        "                           augment,\n",
        "                           random_seed,\n",
        "                           normalize,\n",
        "                           valid_size=0.1,\n",
        "                           shuffle=True):\n",
        "\n",
        "    # Definim setul de transformari necesare bazei de date\n",
        "    valid_transform = transforms.Compose([\n",
        "            transforms.Resize((227,227)), # baza de date CIFAR10 contine imagini de dimensiunea 32x32, iar AlexNet are intrari de dimensiune 227x227\n",
        "            transforms.ToTensor(),        # transformarea intrarilor in tensori\n",
        "            normalize,                    # aplicarea normalizarii\n",
        "    ])\n",
        "    if augment:\n",
        "        train_transform = transforms.Compose([\n",
        "            transforms.RandomCrop(32, padding=4), # decuparea unor regiuni aleatoare de dimensiune 32x32 din imaginea originala la care s-a adaugat padding=4\n",
        "            transforms.RandomHorizontalFlip(0.4), # oglindirea imaginilor cu probabilitate de 40%\n",
        "            transforms.Resize((227,227)),         # redimensionarea imaginilor augmentate la dimensiunea de 227x227 pixeli\n",
        "            transforms.ToTensor(),                # transformarea intrarilor in tensori\n",
        "            normalize,                            # aplicarea normalizarii\n",
        "        ])\n",
        "    else:\n",
        "        train_transform = valid_transform\n",
        "\n",
        "    # Fiind o baza de date foarte populara, CIFAR10 poate fi descarcata cu ajutorul modulului torchvision       \n",
        "    train_dataset = datasets.CIFAR10(root=data_dir,                \n",
        "                                     train=True,\n",
        "                                     download=True, \n",
        "                                     transform=train_transform,   \n",
        "                                     )\n",
        "\n",
        "    valid_dataset = datasets.CIFAR10(root=data_dir, \n",
        "                                     train=True,\n",
        "                                     download=True, \n",
        "                                     transform=valid_transform,\n",
        "                                     )\n",
        "\n",
        "    # Alegem numarul de esantioane pentru train/val\n",
        "    num_train = len(train_dataset)\n",
        "    indices = list(range(num_train))\n",
        "    split = int(np.floor(valid_size * num_train))\n",
        "\n",
        "    # Amestecam indecsii\n",
        "    if shuffle:\n",
        "        np.random.seed(random_seed)\n",
        "        np.random.shuffle(indices)\n",
        "\n",
        "    # Separam indecsii de train in train+val\n",
        "    train_idx, valid_idx = indices[split:], indices[:split]\n",
        "    train_sampler = SubsetRandomSampler(train_idx)\n",
        "    valid_sampler = SubsetRandomSampler(valid_idx)\n",
        "\n",
        "    # Cream dataloaders pentru train si val\n",
        "    train_loader = torch.utils.data.DataLoader(\n",
        "        train_dataset, batch_size=batch_size, sampler=train_sampler)\n",
        " \n",
        "    valid_loader = torch.utils.data.DataLoader(\n",
        "        valid_dataset, batch_size=batch_size, sampler=valid_sampler)\n",
        "\n",
        "    return (train_loader, valid_loader)\n",
        "\n",
        "\n",
        "def get_test_loader(data_dir,\n",
        "                    batch_size,\n",
        "                    normalize,\n",
        "                    shuffle=True):\n",
        "\n",
        "    # Transformari asemanatoare cu cele pentru train/val. Normalizarea se face cu aceleasi valori ca in cazul train!\n",
        "    transform = transforms.Compose([\n",
        "        transforms.Resize((227,227)),\n",
        "        transforms.ToTensor(),\n",
        "        normalize,\n",
        "    ])\n",
        "\n",
        "    # Descarcarea bazei de test\n",
        "    dataset = datasets.CIFAR10(\n",
        "        root=data_dir, train=False,\n",
        "        download=True, transform=transform,\n",
        "    )\n",
        "\n",
        "    # Crearea dataloader pentru test\n",
        "    data_loader = torch.utils.data.DataLoader(\n",
        "        dataset, batch_size=batch_size, shuffle=shuffle\n",
        "    )\n",
        "\n",
        "    return data_loader\n",
        "\n",
        "\n",
        "# Crearea efectiva a dataloaders\n",
        "train_loader, valid_loader = get_train_valid_loader(\n",
        "    data_dir = './data',     \n",
        "    batch_size = 64,\n",
        "    augment = True,                             \t\t     \n",
        "    random_seed = 1,\n",
        "    normalize = normalize\n",
        ")\n",
        "\n",
        "test_loader = get_test_loader(\n",
        "    data_dir = './data',\n",
        "    batch_size = 64,\n",
        "    normalize = normalize\n",
        ")"
      ],
      "metadata": {
        "id": "N4sJfy7RVUGr"
      },
      "execution_count": null,
      "outputs": []
    },
    {
      "cell_type": "markdown",
      "source": [
        "##2. Definirea modelului"
      ],
      "metadata": {
        "id": "G90-dEwJ45Q2"
      }
    },
    {
      "cell_type": "markdown",
      "source": [
        "Resurse utile (documentatii):\n",
        "- strat convolutional: https://pytorch.org/docs/stable/generated/torch.nn.Conv2d.html\n",
        "- strat complet conectat: https://pytorch.org/docs/stable/generated/torch.nn.Linear.html?highlight=linear#torch.nn.Linear\n",
        "- strat max pooling: https://pytorch.org/docs/stable/generated/torch.nn.MaxPool2d.html?highlight=maxpool#torch.nn.MaxPool2d\n",
        "- activare ReLU: https://pytorch.org/docs/stable/generated/torch.nn.ReLU.html?highlight=relu#torch.nn.ReLU\n",
        "- regularizare dropout: https://pytorch.org/docs/stable/generated/torch.nn.Dropout.html?highlight=dropout#torch.nn.Dropout\n",
        "- mod secvential de compunere a straturilor: https://pytorch.org/docs/stable/generated/torch.nn.Sequential.html?highlight=sequential#torch.nn.Sequential"
      ],
      "metadata": {
        "id": "t-s_LREX7Qgy"
      }
    },
    {
      "cell_type": "code",
      "source": [
        "class AlexNet(nn.Module):\n",
        "    def __init__(self, num_classes=10):\n",
        "        super(AlexNet, self).__init__()\n",
        "        # TODO: definiti componentele de baza ale retelei\n",
        "        \n",
        "    def forward(self, x):\n",
        "        # TODO: implementati interactiunea intre straturile retelei\n",
        "        return out\n",
        "\n",
        "\n"
      ],
      "metadata": {
        "id": "IzVHcoKlXTko"
      },
      "execution_count": null,
      "outputs": []
    },
    {
      "cell_type": "markdown",
      "source": [
        "##3. Antrenarea retelei"
      ],
      "metadata": {
        "id": "G8FsviED5BHt"
      }
    },
    {
      "cell_type": "code",
      "source": [
        "# Alegerea hiperparametrilor\n",
        "num_classes = 10\n",
        "num_epochs = 20\n",
        "batch_size = 64\n",
        "learning_rate = 0.005\n",
        "\n",
        "# Trecerea modelului pe gpu\n",
        "model = AlexNet(num_classes).to(device)\n",
        "\n",
        "# Alegerea functiei de pierdere. Clasificare de imagini => cross-entropy\n",
        "criterion = nn.CrossEntropyLoss()\n",
        "# Alegerea optimizatorului\n",
        "optimizer = torch.optim.SGD(model.parameters(), lr=learning_rate, weight_decay = 0.005, momentum = 0.9)  "
      ],
      "metadata": {
        "id": "nxoT-gGLXWKU"
      },
      "execution_count": null,
      "outputs": []
    },
    {
      "cell_type": "code",
      "source": [
        "# Antrenarea modelului\n",
        "total_step = len(train_loader)\n",
        "\n",
        "for epoch in tqdm(range(num_epochs)):\n",
        "    for i, (images, labels) in enumerate(train_loader):  \n",
        "        # Incarcam tensorii pe gpu/cpu\n",
        "        images = images.to(device)\n",
        "        labels = labels.to(device)\n",
        "        \n",
        "        # Forward propagation\n",
        "        outputs = model(images)\n",
        "        loss = criterion(outputs, labels)\n",
        "        \n",
        "        # Backprop si rularea unui pas de optimizare a ponderilor\n",
        "        optimizer.zero_grad()\n",
        "        loss.backward()\n",
        "        optimizer.step()\n",
        "\n",
        "    print ('Epoch [{}/{}], Step [{}/{}], Loss: {:.4f}' \n",
        "                   .format(epoch+1, num_epochs, i+1, total_step, loss.item()))\n",
        "            \n",
        "    # Rularea algoritmului pe baza de validare\n",
        "    with torch.no_grad():\n",
        "        correct = 0\n",
        "        total = 0\n",
        "        for images, labels in valid_loader:\n",
        "            images = images.to(device)\n",
        "            labels = labels.to(device)\n",
        "            outputs = model(images)\n",
        "            _, predicted = torch.max(outputs.data, 1)\n",
        "            total += labels.size(0)\n",
        "            correct += (predicted == labels).sum().item()\n",
        "            del images, labels, outputs\n",
        "    \n",
        "        print('Accuracy of the network on the {} validation images: {} %'.format(5000, 100 * correct / total)) \n"
      ],
      "metadata": {
        "id": "wyvxaODWXY_o"
      },
      "execution_count": null,
      "outputs": []
    },
    {
      "cell_type": "markdown",
      "source": [
        "##4. Testarea retelei"
      ],
      "metadata": {
        "id": "JjNYKyda5E_v"
      }
    },
    {
      "cell_type": "code",
      "source": [
        "# Rularea algoritmului pe baza de test\n",
        "with torch.no_grad():\n",
        "    correct = 0\n",
        "    total = 0\n",
        "    for images, labels in test_loader:\n",
        "        images = images.to(device)\n",
        "        labels = labels.to(device)\n",
        "        outputs = model(images)\n",
        "        _, predicted = torch.max(outputs.data, 1)\n",
        "        total += labels.size(0)\n",
        "        correct += (predicted == labels).sum().item()\n",
        "        del images, labels, outputs\n",
        "\n",
        "    print('Accuracy of the network on the {} test images: {} %'.format(10000, 100 * correct / total))   "
      ],
      "metadata": {
        "id": "y9YOC0T0XbyK"
      },
      "execution_count": null,
      "outputs": []
    },
    {
      "cell_type": "markdown",
      "source": [
        "#\\#TODO:\n",
        "1. Implementati structura retelei AlexNet. Clasa trebuie sa defineasca straturile in functia \\_\\_init\\_\\_() si sa le lege in functia foward().\n",
        "2. Comparati rezultatele antrenarii cu, respectiv fara, augmentari.\n",
        "3. Reduceti setul de date de antrenare la 10% din valoarea sa si analizati impactul asupra acuratetii finale.\n",
        "4. Incercati diferiti optimizatori si hiperparametri.\n",
        "5. Rulati inferenta (testarea) pe o imagine reala si afisati rezultatul.\n",
        "6. Modificati modelul retelei prin adaugarea unor straturi intermediare."
      ],
      "metadata": {
        "id": "uykiqMdy3Ceh"
      }
    }
  ]
}