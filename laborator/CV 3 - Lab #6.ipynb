{
  "nbformat": 4,
  "nbformat_minor": 0,
  "metadata": {
    "colab": {
      "provenance": [],
      "authorship_tag": "ABX9TyMzRFEewBStLAb3Cq6QmzRs",
      "include_colab_link": true
    },
    "kernelspec": {
      "name": "python3",
      "display_name": "Python 3"
    },
    "language_info": {
      "name": "python"
    }
  },
  "cells": [
    {
      "cell_type": "markdown",
      "metadata": {
        "id": "view-in-github",
        "colab_type": "text"
      },
      "source": [
        "<a href=\"https://colab.research.google.com/github/MihaiDogariu/CV3/blob/main/laborator/CV%203%20-%20Lab%20%236.ipynb\" target=\"_parent\"><img src=\"https://colab.research.google.com/assets/colab-badge.svg\" alt=\"Open In Colab\"/></a>"
      ]
    },
    {
      "cell_type": "code",
      "execution_count": null,
      "metadata": {
        "id": "RF1cPaX8FT6c"
      },
      "outputs": [],
      "source": [
        "# se importa bibliotecile utilizate\n",
        "!pip install -U kora\n",
        "%matplotlib inline\n",
        "import matplotlib.pyplot as plt \n",
        "import torch\n",
        "import torchvision.transforms as T\n",
        "import torchvision\n",
        "import numpy as np\n",
        "import cv2\n",
        "import warnings\n",
        "warnings.filterwarnings('ignore')\n",
        "\n",
        "from kora.drive import upload_public\n",
        "from IPython.display import HTML\n",
        "from PIL import Image"
      ]
    },
    {
      "cell_type": "markdown",
      "source": [
        "Biblioteca `torchvision` pune la dispozitie o serie de modele pre-antrenate, ce pot fi utilizate fara a mai fi nevoie de o antrenare noua. Pentru acest laborator se selecteaza unul dintre [aceste](https://pytorch.org/vision/stable/models.html#object-detection-instance-segmentation-and-person-keypoint-detection) modele. Pentru moment, se ignora tipul modelului (metoda, backbone, clasificator, etc.), atentia punandu-se pe rezultatul oferit de detector si procesarea lui."
      ],
      "metadata": {
        "id": "RuKDJTuxPsDN"
      }
    },
    {
      "cell_type": "code",
      "source": [
        "# se descarca modelul pre-antrenat: Faster R-CNN cu backbone ResNet-50 si Feature Pyramid Network\n",
        "model = torchvision.models.detection.fasterrcnn_resnet50_fpn(pretrained=True)\n",
        "# se seteaza modelul in starea de evaluare/inferenta - acest atribut schimba comportamentul unor straturi fata de modul in care se comporta in timpul antrenarii, e.g. batch normalization\n",
        "model.eval()\n",
        "\n",
        "\n",
        "# se incarca lista de etichete a bazei de date MS-COCO\n",
        "COCO_INSTANCE_CATEGORY_NAMES = [\n",
        "    'bg', 'person', 'bicycle', 'car', 'motorcycle', 'airplane', 'bus',\n",
        "    'train', 'truck', 'boat', 'traffic light', 'fire hydrant', 'N/A', 'stop sign',\n",
        "    'parking meter', 'bench', 'bird', 'cat', 'dog', 'horse', 'sheep', 'cow',\n",
        "    'elephant', 'bear', 'zebra', 'giraffe', 'N/A', 'backpack', 'umbrella', 'N/A', 'N/A',\n",
        "    'handbag', 'tie', 'suitcase', 'frisbee', 'skis', 'snowboard', 'sports ball',\n",
        "    'kite', 'baseball bat', 'baseball glove', 'skateboard', 'surfboard', 'tennis racket',\n",
        "    'bottle', 'N/A', 'wine glass', 'cup', 'fork', 'knife', 'spoon', 'bowl',\n",
        "    'banana', 'apple', 'sandwich', 'orange', 'broccoli', 'carrot', 'hot dog', 'pizza',\n",
        "    'donut', 'cake', 'chair', 'couch', 'potted plant', 'bed', 'N/A', 'dining table',\n",
        "    'N/A', 'N/A', 'toilet', 'N/A', 'tv', 'laptop', 'mouse', 'remote', 'keyboard', 'cell phone',\n",
        "    'microwave', 'oven', 'toaster', 'sink', 'refrigerator', 'N/A', 'book',\n",
        "    'clock', 'vase', 'scissors', 'teddy bear', 'hair drier', 'toothbrush'\n",
        "]"
      ],
      "metadata": {
        "id": "thCEvL29FX9p"
      },
      "execution_count": null,
      "outputs": []
    },
    {
      "cell_type": "code",
      "source": [
        "# functie de detectie: citeste o imagine, o pre-proceseaza, o propaga prin model si intoarce rezultatele detectiei\n",
        "def get_prediction(img_path, confidence_threshold):\n",
        "  img = Image.open(img_path) # se deschide imaginea folosind calea sa absoluta ca argument\n",
        "  transform = T.Compose([T.ToTensor()]) # se creeaza un set de transformari pe care le vom aplica fiecarei imagini citite - in acest caz, este suficienta doar transformarea imaginii in tensor\n",
        "  img = transform(img) # se aplica transformarea pe imaginea deschisa\n",
        "  pred = model([img]) # se propaga imaginea prin modelul de detectie\n",
        "                      # pentru fiecare imagine din lista de intrare se returneaza un dictionar care contine:\n",
        "                      # 1. lista de casete de incadrare\n",
        "                      # 2. lista de clase detectate\n",
        "                      # 3. lista de scoruri (confidence score) asociate detectiilor\n",
        "                      # detectiile sunt plasate in lista de iesire in ordinea descrescatoare a scorului de detectie\n",
        "  pred_class = [COCO_INSTANCE_CATEGORY_NAMES[i] for i in list(pred[0]['labels'].numpy())] # se transforma lista de clase numerice detectate in lista de cuvinte asociate claselor conform bazei MS-COCO\n",
        "  pred_boxes = [[int(i[0]), int(i[1]), int(i[2]), int(i[3])] for i in list(pred[0]['boxes'].detach().numpy())]  # se extrag casetele de incadrare \n",
        "                                                                                                                    # fiecare coordonata trebuie transformata manual in data de tipul int, deoarece, \n",
        "                                                                                                                    # in urma regresiei casetelor de incadrare, coordonatele sunt calculate ca valori reale\n",
        "  pred_score = list(pred[0]['scores'].detach().numpy()) # se extrag scorurile de detectie\n",
        "  pred_t = [pred_score.index(x) for x in pred_score if x>confidence_threshold][-1] # se selecteaza indecsii detectiilor al caror scor depaseste pragul impus\n",
        "  pred_boxes = pred_boxes[:pred_t+1] # se selecteaza doar casetele de incadrare ale obiectelor al caror scor depaseste pragul impus\n",
        "  pred_class = pred_class[:pred_t+1] # se selecteaza doar clasele obiectelor al caror scor depaseste pragul impus\n",
        "  pred_score = pred_score[:pred_t+1] # se selecteaza doar scorurile obiectelor care depasesc pragul impus\n",
        "  return pred_boxes, pred_class, pred_score"
      ],
      "metadata": {
        "id": "dWDL68egFb_5"
      },
      "execution_count": null,
      "outputs": []
    },
    {
      "cell_type": "code",
      "source": [
        "# functie care apeleaza functia de detectie pentru o imagine si afiseaza rezultatele\n",
        "def detect_object(img_path, confidence=0.5, rect_th=2, text_size=0.5, text_th=1):\n",
        "  boxes, pred_cls, score = get_prediction(img_path, confidence) # rularea detectiei\n",
        "  # afisarea rezultatelor pe imaginea originala:\n",
        "  img = cv2.imread(img_path)\n",
        "  img = cv2.cvtColor(img, cv2.COLOR_BGR2RGB)\n",
        "  for i in range(len(boxes)):\n",
        "    cv2.rectangle(img, (boxes[i][0], boxes[i][1]), (boxes[i][2], boxes[i][3]), color=(0, 255, 0), thickness=rect_th) # afisarea casetei de incadrare\n",
        "    cv2.putText(img,\"{}:{:.2f}\".format(pred_cls[i], score[i]), (boxes[i][0], boxes[i][1]-6), cv2.FONT_HERSHEY_SIMPLEX, text_size, (0,255,0),thickness=text_th) # afisarea clasei si a scorului pentru fiecare caseta\n",
        "  plt.figure(figsize=(20,30))\n",
        "  plt.imshow(img)\n",
        "  plt.xticks([])\n",
        "  plt.yticks([])\n",
        "  plt.show()"
      ],
      "metadata": {
        "id": "moVkSwo7FgVq"
      },
      "execution_count": null,
      "outputs": []
    },
    {
      "cell_type": "markdown",
      "source": [
        "Exemplu de detectie pe o imagine aleatoare:"
      ],
      "metadata": {
        "id": "ssztjVL0vr0n"
      }
    },
    {
      "cell_type": "code",
      "source": [
        "!wget -nv https://www.goodfreephotos.com/cache/other-photos/car-and-traffic-on-the-road-coming-towards-me.jpg -O traffic.jpg\n",
        "detect_object('traffic.jpg', confidence=0.7)"
      ],
      "metadata": {
        "id": "mk6nRSHlFipm"
      },
      "execution_count": null,
      "outputs": []
    },
    {
      "cell_type": "markdown",
      "source": [
        "#TODO:\n",
        "Aplicatia #1: folosirea detectorului de obiecte pentru a detecta bagaje abandonate din imagini preluate de camere de supraveghere\n",
        "\n",
        "Aplicatia #2: rularea detectorului de obiecte pe o secventa video"
      ],
      "metadata": {
        "id": "q3uM7BBnv0o7"
      }
    },
    {
      "cell_type": "markdown",
      "source": [
        "Descarcarea resurselor - acest bloc este preferabil sa fie rulat o singura data."
      ],
      "metadata": {
        "id": "FkJgvXnsFgDQ"
      }
    },
    {
      "cell_type": "code",
      "source": [
        "# Secvente video:\n",
        "!wget -O video1.mp4 --no-check-certificate \"https://docs.google.com/uc?export=download&id=1STE6xpyG3-U_xCBzsMgnD6_r-DMlAS5c\"\n",
        "!wget -O video2.mp4 --no-check-certificate \"https://docs.google.com/uc?export=download&id=1y8lQqtPBbBrn_UjGwbEGn8gBybWNaNPY\"\n",
        "!wget -O video3.mp4 --no-check-certificate \"https://docs.google.com/uc?export=download&id=1mzy4v0rkSTfXucQbZP7t1J6uemEygFRo\"\n",
        "\n",
        "# Imagini:\n",
        "!wget -O img1.jpg --no-check-certificate \"https://docs.google.com/uc?export=download&id=1SrWV4NMGBy6cYhRvvlIjAxyKfqfIrWow\"\n",
        "!wget -O img2.jpg --no-check-certificate \"https://docs.google.com/uc?export=download&id=1bM3i5_ypub7XDJX4z8m7JO59XJAEVZdI\"\n",
        "!wget -O img3.jpg --no-check-certificate \"https://docs.google.com/uc?export=download&id=1kf8UJECW15tSesdgybeXAhjRBrju9ERH\"\n",
        "!wget -O img4.jpg --no-check-certificate \"https://docs.google.com/uc?export=download&id=1LhqNqYHjnxSB9e3O2TSEfV30kmk3-Qrp\"\n",
        "!wget -O img5.jpg --no-check-certificate \"https://docs.google.com/uc?export=download&id=11ZtCTGOtB_j99cjreaRgpszvXvkRdIPW\"\n",
        "\n",
        "!ls -al"
      ],
      "metadata": {
        "id": "mIsMxIad-qzi"
      },
      "execution_count": null,
      "outputs": []
    },
    {
      "cell_type": "markdown",
      "source": [
        "#TODO #1\n",
        "Aplicatia #1: Detectia bagajelor abandonate\n",
        "\n",
        "Sa se implementeze un sistem simplificat de detectie a bagajelor abandonate. Acesta trebuie sa emita un mesaj de avertizare (o alarma) atunci cand in imagine este detectat un bagaj abandonat.\n",
        "\n",
        "\n",
        "*   Prin bagaj intelegem orice obiect din clasa \"backpack\", \"suitcase\" sau \n",
        "\"handbag\".\n",
        "*   Prin bagaj abandonat intelegem orice bagaj care nu se afla in posesia unei persoane. Consideram ca un bagaj se afla in posesia unei persoane atunci cand caseta de incadrare a bagajului se intersecteaza cu caseta de incadrare a cel putin unei persoane.\n",
        "\n",
        "Se va inconjura cu un chenar rosu fiecare bagaj considerat abandonat. Celelalte bagaje se vor inconjura cu un chenar de alta culoare."
      ],
      "metadata": {
        "id": "mCZZ00loFiwE"
      }
    },
    {
      "cell_type": "markdown",
      "source": [
        "#TODO #2\n",
        "Aplicatia #2: Detectia obiectelor intr-un fisier video\n",
        "\n",
        "Sa se ruleze detectia tuturor obiectelor dintr-un fisier video. Acest lucru presupune 3 pasi:\n",
        "1. Transformarea unui fisier video in secventa de cadre;\n",
        "2. Rularea detectiei de obiecte pe fiecare cadru, in parte;\n",
        "3. Transformarea secventei de cadre prelucrate intr-o secventa video si afisarea ei."
      ],
      "metadata": {
        "id": "d4HcU3tHP8WG"
      }
    },
    {
      "cell_type": "code",
      "source": [
        "# pentru a afisa o secventa video in mediul Google Colab se poate folosi codul de mai jos\n",
        "url = upload_public('./video1.mp4')\n",
        "HTML(f\"\"\"<video src={url} width=500 controls/>\"\"\")"
      ],
      "metadata": {
        "id": "e0TkhE1e8vgX"
      },
      "execution_count": null,
      "outputs": []
    }
  ]
}